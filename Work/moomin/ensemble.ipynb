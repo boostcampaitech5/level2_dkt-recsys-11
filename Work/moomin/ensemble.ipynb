{
 "cells": [
  {
   "cell_type": "code",
   "execution_count": 1,
   "id": "4c700791-3370-415c-8133-6e6a2e80bc12",
   "metadata": {
    "tags": []
   },
   "outputs": [],
   "source": [
    "import pandas as pd\n",
    "\n",
    "answer_data = pd.read_csv('some_output.csv')\n",
    "sota_data = pd.read_csv('sota.csv')\n"
   ]
  },
  {
   "cell_type": "code",
   "execution_count": 4,
   "id": "d8d670b7-b5eb-4719-b849-348bd6ea5c13",
   "metadata": {
    "tags": []
   },
   "outputs": [],
   "source": [
    "for idx in answer_data.index:\n",
    "    if answer_data.loc[idx][\"prediction\"] != -1:\n",
    "        if answer_data.loc[idx][\"prediction\"] == 0 and sota_data.loc[idx][\"prediction\"] > 0.5:\n",
    "            sota_data.at[idx,\"prediction\"] = sota_data.loc[idx][\"prediction\"] - 0.5\n",
    "        elif answer_data.loc[idx][\"prediction\"] == 0 and sota_data.loc[idx][\"prediction\"] <= 0.5:\n",
    "            sota_data.at[idx,\"prediction\"] = sota_data.loc[idx][\"prediction\"] + 0.5\n"
   ]
  },
  {
   "cell_type": "code",
   "execution_count": 6,
   "id": "516635c3-ba53-4d60-9e2c-685dd7dd06da",
   "metadata": {
    "tags": []
   },
   "outputs": [],
   "source": [
    "sota_data.to_csv('submission.csv')"
   ]
  },
  {
   "cell_type": "code",
   "execution_count": null,
   "id": "4537c2f0-2c57-4892-a059-72e39124f1be",
   "metadata": {},
   "outputs": [],
   "source": []
  }
 ],
 "metadata": {
  "kernelspec": {
   "display_name": "Python 3 (ipykernel)",
   "language": "python",
   "name": "python3"
  },
  "language_info": {
   "codemirror_mode": {
    "name": "ipython",
    "version": 3
   },
   "file_extension": ".py",
   "mimetype": "text/x-python",
   "name": "python",
   "nbconvert_exporter": "python",
   "pygments_lexer": "ipython3",
   "version": "3.8.5"
  }
 },
 "nbformat": 4,
 "nbformat_minor": 5
}
