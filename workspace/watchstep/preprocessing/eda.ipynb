{
 "cells": [
  {
   "attachments": {},
   "cell_type": "markdown",
   "metadata": {},
   "source": [
    "## ⚗️ EDA (Exploratory Data Analysis)"
   ]
  },
  {
   "attachments": {},
   "cell_type": "markdown",
   "metadata": {},
   "source": [
    "### 1. 패키지 설치 및 임포트"
   ]
  },
  {
   "cell_type": "code",
   "execution_count": 1,
   "metadata": {},
   "outputs": [
    {
     "name": "stderr",
     "output_type": "stream",
     "text": [
      "/tmp/ipykernel_69376/3685927287.py:7: DeprecationWarning: `import pandas_profiling` is going to be deprecated by April 1st. Please use `import ydata_profiling` instead.\n",
      "  import pandas_profiling\n"
     ]
    }
   ],
   "source": [
    "import os\n",
    "import random\n",
    "\n",
    "\n",
    "import numpy as np\n",
    "import pandas as pd\n",
    "import pandas_profiling\n",
    "\n",
    "import torch\n",
    "\n",
    "# 시각화\n",
    "import matplotlib.pyplot as plt\n",
    "import seaborn as sns; sns.set_theme(color_codes=True)\n",
    "\n",
    "from sklearn.preprocessing import RobustScaler\n",
    "from sklearn.preprocessing import QuantileTransformer\n",
    "\n",
    "\n",
    "# 랜덤 시드 설정\n",
    "def set_seeds(seed: int = 42):\n",
    "    os.environ[\"PYTHONHASHSEED\"] = str(seed)\n",
    "    random.seed(seed)\n",
    "    np.random.seed(seed)\n",
    "    torch.manual_seed(seed)\n",
    "    torch.cuda.manual_seed(seed)\n",
    "    torch.backends.cudnn.deterministic = True"
   ]
  },
  {
   "attachments": {},
   "cell_type": "markdown",
   "metadata": {},
   "source": [
    "### 2. 데이터 불러오기"
   ]
  },
  {
   "cell_type": "code",
   "execution_count": 2,
   "metadata": {},
   "outputs": [
    {
     "name": "stdout",
     "output_type": "stream",
     "text": [
      "edu_tr shape:  (2266586, 6)\n",
      "edu_te shape:  (260114, 6)\n"
     ]
    }
   ],
   "source": [
    "DKT_PATH = '/opt/ml/input'\n",
    "DATA_PATH = os.path.join(DKT_PATH, 'data')\n",
    "\n",
    "edu_tr = pd.read_csv(os.path.join(DATA_PATH, 'train_data.csv'), parse_dates=['Timestamp'])\n",
    "edu_te = pd.read_csv(os.path.join(DATA_PATH, 'test_data.csv'), parse_dates=['Timestamp'])\n",
    "\n",
    "print('edu_tr shape: ', edu_tr.shape)\n",
    "print('edu_te shape: ', edu_te.shape)"
   ]
  },
  {
   "attachments": {},
   "cell_type": "markdown",
   "metadata": {},
   "source": [
    "### Data Info"
   ]
  },
  {
   "cell_type": "code",
   "execution_count": 3,
   "metadata": {},
   "outputs": [
    {
     "data": {
      "text/html": [
       "<div>\n",
       "<style scoped>\n",
       "    .dataframe tbody tr th:only-of-type {\n",
       "        vertical-align: middle;\n",
       "    }\n",
       "\n",
       "    .dataframe tbody tr th {\n",
       "        vertical-align: top;\n",
       "    }\n",
       "\n",
       "    .dataframe thead th {\n",
       "        text-align: right;\n",
       "    }\n",
       "</style>\n",
       "<table border=\"1\" class=\"dataframe\">\n",
       "  <thead>\n",
       "    <tr style=\"text-align: right;\">\n",
       "      <th></th>\n",
       "      <th>userID</th>\n",
       "      <th>assessmentItemID</th>\n",
       "      <th>testId</th>\n",
       "      <th>answerCode</th>\n",
       "      <th>Timestamp</th>\n",
       "      <th>KnowledgeTag</th>\n",
       "    </tr>\n",
       "  </thead>\n",
       "  <tbody>\n",
       "    <tr>\n",
       "      <th>0</th>\n",
       "      <td>0</td>\n",
       "      <td>A060001001</td>\n",
       "      <td>A060000001</td>\n",
       "      <td>1</td>\n",
       "      <td>2020-03-24 00:17:11</td>\n",
       "      <td>7224</td>\n",
       "    </tr>\n",
       "    <tr>\n",
       "      <th>1</th>\n",
       "      <td>0</td>\n",
       "      <td>A060001002</td>\n",
       "      <td>A060000001</td>\n",
       "      <td>1</td>\n",
       "      <td>2020-03-24 00:17:14</td>\n",
       "      <td>7225</td>\n",
       "    </tr>\n",
       "    <tr>\n",
       "      <th>2</th>\n",
       "      <td>0</td>\n",
       "      <td>A060001003</td>\n",
       "      <td>A060000001</td>\n",
       "      <td>1</td>\n",
       "      <td>2020-03-24 00:17:22</td>\n",
       "      <td>7225</td>\n",
       "    </tr>\n",
       "    <tr>\n",
       "      <th>3</th>\n",
       "      <td>0</td>\n",
       "      <td>A060001004</td>\n",
       "      <td>A060000001</td>\n",
       "      <td>1</td>\n",
       "      <td>2020-03-24 00:17:29</td>\n",
       "      <td>7225</td>\n",
       "    </tr>\n",
       "    <tr>\n",
       "      <th>4</th>\n",
       "      <td>0</td>\n",
       "      <td>A060001005</td>\n",
       "      <td>A060000001</td>\n",
       "      <td>1</td>\n",
       "      <td>2020-03-24 00:17:36</td>\n",
       "      <td>7225</td>\n",
       "    </tr>\n",
       "  </tbody>\n",
       "</table>\n",
       "</div>"
      ],
      "text/plain": [
       "   userID assessmentItemID      testId  answerCode           Timestamp  \\\n",
       "0       0       A060001001  A060000001           1 2020-03-24 00:17:11   \n",
       "1       0       A060001002  A060000001           1 2020-03-24 00:17:14   \n",
       "2       0       A060001003  A060000001           1 2020-03-24 00:17:22   \n",
       "3       0       A060001004  A060000001           1 2020-03-24 00:17:29   \n",
       "4       0       A060001005  A060000001           1 2020-03-24 00:17:36   \n",
       "\n",
       "   KnowledgeTag  \n",
       "0          7224  \n",
       "1          7225  \n",
       "2          7225  \n",
       "3          7225  \n",
       "4          7225  "
      ]
     },
     "execution_count": 3,
     "metadata": {},
     "output_type": "execute_result"
    }
   ],
   "source": [
    "edu_tr.head()"
   ]
  },
  {
   "cell_type": "code",
   "execution_count": 4,
   "metadata": {},
   "outputs": [
    {
     "name": "stdout",
     "output_type": "stream",
     "text": [
      "<class 'pandas.core.frame.DataFrame'>\n",
      "RangeIndex: 2266586 entries, 0 to 2266585\n",
      "Data columns (total 6 columns):\n",
      " #   Column            Dtype         \n",
      "---  ------            -----         \n",
      " 0   userID            int64         \n",
      " 1   assessmentItemID  object        \n",
      " 2   testId            object        \n",
      " 3   answerCode        int64         \n",
      " 4   Timestamp         datetime64[ns]\n",
      " 5   KnowledgeTag      int64         \n",
      "dtypes: datetime64[ns](1), int64(3), object(2)\n",
      "memory usage: 103.8+ MB\n"
     ]
    }
   ],
   "source": [
    "edu_tr.info()"
   ]
  },
  {
   "cell_type": "code",
   "execution_count": 5,
   "metadata": {},
   "outputs": [],
   "source": [
    "# 편의를 위해 칼럼 이름 변경\n",
    "edu_tr.columns = ['uid', 'question_id', 'test_id', 'answer', 'timestamp', 'tag']\n",
    "edu_te.columns = ['uid', 'question_id', 'test_id', 'answer', 'timestamp', 'tag']"
   ]
  },
  {
   "cell_type": "code",
   "execution_count": 6,
   "metadata": {},
   "outputs": [
    {
     "data": {
      "text/html": [
       "<div>\n",
       "<style scoped>\n",
       "    .dataframe tbody tr th:only-of-type {\n",
       "        vertical-align: middle;\n",
       "    }\n",
       "\n",
       "    .dataframe tbody tr th {\n",
       "        vertical-align: top;\n",
       "    }\n",
       "\n",
       "    .dataframe thead th {\n",
       "        text-align: right;\n",
       "    }\n",
       "</style>\n",
       "<table border=\"1\" class=\"dataframe\">\n",
       "  <thead>\n",
       "    <tr style=\"text-align: right;\">\n",
       "      <th></th>\n",
       "      <th>uid</th>\n",
       "      <th>question_id</th>\n",
       "      <th>test_id</th>\n",
       "      <th>answer</th>\n",
       "      <th>timestamp</th>\n",
       "      <th>tag</th>\n",
       "    </tr>\n",
       "  </thead>\n",
       "  <tbody>\n",
       "    <tr>\n",
       "      <th>1651640</th>\n",
       "      <td>2917</td>\n",
       "      <td>A080115002</td>\n",
       "      <td>A080000115</td>\n",
       "      <td>1</td>\n",
       "      <td>2020-11-04 05:45:17</td>\n",
       "      <td>2712</td>\n",
       "    </tr>\n",
       "    <tr>\n",
       "      <th>36507</th>\n",
       "      <td>49</td>\n",
       "      <td>A060097002</td>\n",
       "      <td>A060000097</td>\n",
       "      <td>1</td>\n",
       "      <td>2020-08-25 12:24:23</td>\n",
       "      <td>9931</td>\n",
       "    </tr>\n",
       "    <tr>\n",
       "      <th>489351</th>\n",
       "      <td>686</td>\n",
       "      <td>A020073001</td>\n",
       "      <td>A020000073</td>\n",
       "      <td>1</td>\n",
       "      <td>2020-03-13 01:29:27</td>\n",
       "      <td>7935</td>\n",
       "    </tr>\n",
       "    <tr>\n",
       "      <th>391310</th>\n",
       "      <td>535</td>\n",
       "      <td>A030078005</td>\n",
       "      <td>A030000078</td>\n",
       "      <td>1</td>\n",
       "      <td>2020-06-09 23:40:50</td>\n",
       "      <td>481</td>\n",
       "    </tr>\n",
       "    <tr>\n",
       "      <th>2131475</th>\n",
       "      <td>5036</td>\n",
       "      <td>A040164002</td>\n",
       "      <td>A040000164</td>\n",
       "      <td>1</td>\n",
       "      <td>2020-09-25 12:10:00</td>\n",
       "      <td>2122</td>\n",
       "    </tr>\n",
       "  </tbody>\n",
       "</table>\n",
       "</div>"
      ],
      "text/plain": [
       "          uid question_id     test_id  answer           timestamp   tag\n",
       "1651640  2917  A080115002  A080000115       1 2020-11-04 05:45:17  2712\n",
       "36507      49  A060097002  A060000097       1 2020-08-25 12:24:23  9931\n",
       "489351    686  A020073001  A020000073       1 2020-03-13 01:29:27  7935\n",
       "391310    535  A030078005  A030000078       1 2020-06-09 23:40:50   481\n",
       "2131475  5036  A040164002  A040000164       1 2020-09-25 12:10:00  2122"
      ]
     },
     "execution_count": 6,
     "metadata": {},
     "output_type": "execute_result"
    }
   ],
   "source": [
    "edu_tr.sample(5)"
   ]
  },
  {
   "cell_type": "code",
   "execution_count": 7,
   "metadata": {},
   "outputs": [
    {
     "data": {
      "text/html": [
       "<div>\n",
       "<style scoped>\n",
       "    .dataframe tbody tr th:only-of-type {\n",
       "        vertical-align: middle;\n",
       "    }\n",
       "\n",
       "    .dataframe tbody tr th {\n",
       "        vertical-align: top;\n",
       "    }\n",
       "\n",
       "    .dataframe thead th {\n",
       "        text-align: right;\n",
       "    }\n",
       "</style>\n",
       "<table border=\"1\" class=\"dataframe\">\n",
       "  <thead>\n",
       "    <tr style=\"text-align: right;\">\n",
       "      <th></th>\n",
       "      <th>uid</th>\n",
       "      <th>answer</th>\n",
       "      <th>tag</th>\n",
       "    </tr>\n",
       "  </thead>\n",
       "  <tbody>\n",
       "    <tr>\n",
       "      <th>count</th>\n",
       "      <td>2.266586e+06</td>\n",
       "      <td>2.266586e+06</td>\n",
       "      <td>2.266586e+06</td>\n",
       "    </tr>\n",
       "    <tr>\n",
       "      <th>mean</th>\n",
       "      <td>2.087687e+03</td>\n",
       "      <td>6.543784e-01</td>\n",
       "      <td>4.909007e+03</td>\n",
       "    </tr>\n",
       "    <tr>\n",
       "      <th>std</th>\n",
       "      <td>1.589365e+03</td>\n",
       "      <td>4.755706e-01</td>\n",
       "      <td>3.302214e+03</td>\n",
       "    </tr>\n",
       "    <tr>\n",
       "      <th>min</th>\n",
       "      <td>0.000000e+00</td>\n",
       "      <td>0.000000e+00</td>\n",
       "      <td>2.300000e+01</td>\n",
       "    </tr>\n",
       "    <tr>\n",
       "      <th>25%</th>\n",
       "      <td>8.000000e+02</td>\n",
       "      <td>0.000000e+00</td>\n",
       "      <td>1.931000e+03</td>\n",
       "    </tr>\n",
       "    <tr>\n",
       "      <th>50%</th>\n",
       "      <td>1.748000e+03</td>\n",
       "      <td>1.000000e+00</td>\n",
       "      <td>5.258000e+03</td>\n",
       "    </tr>\n",
       "    <tr>\n",
       "      <th>75%</th>\n",
       "      <td>3.046000e+03</td>\n",
       "      <td>1.000000e+00</td>\n",
       "      <td>7.913000e+03</td>\n",
       "    </tr>\n",
       "    <tr>\n",
       "      <th>max</th>\n",
       "      <td>7.441000e+03</td>\n",
       "      <td>1.000000e+00</td>\n",
       "      <td>1.127100e+04</td>\n",
       "    </tr>\n",
       "  </tbody>\n",
       "</table>\n",
       "</div>"
      ],
      "text/plain": [
       "                uid        answer           tag\n",
       "count  2.266586e+06  2.266586e+06  2.266586e+06\n",
       "mean   2.087687e+03  6.543784e-01  4.909007e+03\n",
       "std    1.589365e+03  4.755706e-01  3.302214e+03\n",
       "min    0.000000e+00  0.000000e+00  2.300000e+01\n",
       "25%    8.000000e+02  0.000000e+00  1.931000e+03\n",
       "50%    1.748000e+03  1.000000e+00  5.258000e+03\n",
       "75%    3.046000e+03  1.000000e+00  7.913000e+03\n",
       "max    7.441000e+03  1.000000e+00  1.127100e+04"
      ]
     },
     "execution_count": 7,
     "metadata": {},
     "output_type": "execute_result"
    }
   ],
   "source": [
    "edu_tr.describe()"
   ]
  },
  {
   "cell_type": "code",
   "execution_count": 8,
   "metadata": {},
   "outputs": [],
   "source": [
    "# 복사본 생성\n",
    "edu_tr_copy = edu_tr.copy()"
   ]
  },
  {
   "attachments": {},
   "cell_type": "markdown",
   "metadata": {},
   "source": [
    "### pandas profile"
   ]
  },
  {
   "cell_type": "code",
   "execution_count": 9,
   "metadata": {},
   "outputs": [],
   "source": [
    "# profile = edu_tr.profile_report()"
   ]
  },
  {
   "cell_type": "code",
   "execution_count": 10,
   "metadata": {},
   "outputs": [],
   "source": [
    "# profile.to_file(output_file='./profile.html')"
   ]
  },
  {
   "attachments": {},
   "cell_type": "markdown",
   "metadata": {},
   "source": [
    "## 3. EDA"
   ]
  },
  {
   "attachments": {},
   "cell_type": "markdown",
   "metadata": {},
   "source": [
    "🟢 : 가설 성공\n",
    "\n",
    "🟡 : 가설 진행 중\n",
    "\n",
    "🔴 : 가설 실패"
   ]
  },
  {
   "attachments": {},
   "cell_type": "markdown",
   "metadata": {},
   "source": [
    "#### 🟡 `question_id`, `test_id` 불필요한 정보 제거"
   ]
  },
  {
   "attachments": {},
   "cell_type": "markdown",
   "metadata": {},
   "source": [
    "test_id 첫 자리 다음 9자리 중 가운데 3자리 (000) 제거  \n",
    "첫 자리 A는 나중에 숫자 타입으로 혹시 바뀔 위험으로 인해 제거하지 않음"
   ]
  },
  {
   "cell_type": "code",
   "execution_count": 11,
   "metadata": {},
   "outputs": [
    {
     "data": {
      "text/plain": [
       "'A040165'"
      ]
     },
     "execution_count": 11,
     "metadata": {},
     "output_type": "execute_result"
    }
   ],
   "source": [
    "edu_tr['test_id'][2266585][:4] + edu_tr['test_id'][2266585][7:]"
   ]
  },
  {
   "cell_type": "code",
   "execution_count": 12,
   "metadata": {},
   "outputs": [],
   "source": [
    "edu_tr['test_id'] = edu_tr['test_id'].apply(lambda x: x[:4] + x[7:])\n",
    "edu_te['test_id'] = edu_te['test_id'].apply(lambda x: x[:4] + x[7:])"
   ]
  },
  {
   "cell_type": "code",
   "execution_count": 13,
   "metadata": {},
   "outputs": [
    {
     "data": {
      "text/html": [
       "<div>\n",
       "<style scoped>\n",
       "    .dataframe tbody tr th:only-of-type {\n",
       "        vertical-align: middle;\n",
       "    }\n",
       "\n",
       "    .dataframe tbody tr th {\n",
       "        vertical-align: top;\n",
       "    }\n",
       "\n",
       "    .dataframe thead th {\n",
       "        text-align: right;\n",
       "    }\n",
       "</style>\n",
       "<table border=\"1\" class=\"dataframe\">\n",
       "  <thead>\n",
       "    <tr style=\"text-align: right;\">\n",
       "      <th></th>\n",
       "      <th>uid</th>\n",
       "      <th>question_id</th>\n",
       "      <th>test_id</th>\n",
       "      <th>answer</th>\n",
       "      <th>timestamp</th>\n",
       "      <th>tag</th>\n",
       "    </tr>\n",
       "  </thead>\n",
       "  <tbody>\n",
       "    <tr>\n",
       "      <th>0</th>\n",
       "      <td>0</td>\n",
       "      <td>A060001001</td>\n",
       "      <td>A060001</td>\n",
       "      <td>1</td>\n",
       "      <td>2020-03-24 00:17:11</td>\n",
       "      <td>7224</td>\n",
       "    </tr>\n",
       "    <tr>\n",
       "      <th>1</th>\n",
       "      <td>0</td>\n",
       "      <td>A060001002</td>\n",
       "      <td>A060001</td>\n",
       "      <td>1</td>\n",
       "      <td>2020-03-24 00:17:14</td>\n",
       "      <td>7225</td>\n",
       "    </tr>\n",
       "    <tr>\n",
       "      <th>2</th>\n",
       "      <td>0</td>\n",
       "      <td>A060001003</td>\n",
       "      <td>A060001</td>\n",
       "      <td>1</td>\n",
       "      <td>2020-03-24 00:17:22</td>\n",
       "      <td>7225</td>\n",
       "    </tr>\n",
       "    <tr>\n",
       "      <th>3</th>\n",
       "      <td>0</td>\n",
       "      <td>A060001004</td>\n",
       "      <td>A060001</td>\n",
       "      <td>1</td>\n",
       "      <td>2020-03-24 00:17:29</td>\n",
       "      <td>7225</td>\n",
       "    </tr>\n",
       "    <tr>\n",
       "      <th>4</th>\n",
       "      <td>0</td>\n",
       "      <td>A060001005</td>\n",
       "      <td>A060001</td>\n",
       "      <td>1</td>\n",
       "      <td>2020-03-24 00:17:36</td>\n",
       "      <td>7225</td>\n",
       "    </tr>\n",
       "  </tbody>\n",
       "</table>\n",
       "</div>"
      ],
      "text/plain": [
       "   uid question_id  test_id  answer           timestamp   tag\n",
       "0    0  A060001001  A060001       1 2020-03-24 00:17:11  7224\n",
       "1    0  A060001002  A060001       1 2020-03-24 00:17:14  7225\n",
       "2    0  A060001003  A060001       1 2020-03-24 00:17:22  7225\n",
       "3    0  A060001004  A060001       1 2020-03-24 00:17:29  7225\n",
       "4    0  A060001005  A060001       1 2020-03-24 00:17:36  7225"
      ]
     },
     "execution_count": 13,
     "metadata": {},
     "output_type": "execute_result"
    }
   ],
   "source": [
    "edu_tr.head()"
   ]
  },
  {
   "attachments": {},
   "cell_type": "markdown",
   "metadata": {},
   "source": [
    "question_id 앞 7자리 (A + 숫자 6자리) = test_id"
   ]
  },
  {
   "attachments": {},
   "cell_type": "markdown",
   "metadata": {},
   "source": [
    "#### 🟡 `test_id` 앞자리 가운데 숫자 (1~9) 대분류 feature인 `test_category` 생성"
   ]
  },
  {
   "cell_type": "code",
   "execution_count": 14,
   "metadata": {},
   "outputs": [
    {
     "data": {
      "text/plain": [
       "'6'"
      ]
     },
     "execution_count": 14,
     "metadata": {},
     "output_type": "execute_result"
    }
   ],
   "source": [
    "edu_tr['test_id'][0][2]"
   ]
  },
  {
   "cell_type": "code",
   "execution_count": 15,
   "metadata": {},
   "outputs": [],
   "source": [
    "edu_tr['test_category'] = edu_tr['test_id'].str[2].astype('int8')\n",
    "edu_te['test_category'] = edu_te['test_id'].str[2].astype('int8')"
   ]
  },
  {
   "cell_type": "code",
   "execution_count": 16,
   "metadata": {},
   "outputs": [
    {
     "data": {
      "text/html": [
       "<div>\n",
       "<style scoped>\n",
       "    .dataframe tbody tr th:only-of-type {\n",
       "        vertical-align: middle;\n",
       "    }\n",
       "\n",
       "    .dataframe tbody tr th {\n",
       "        vertical-align: top;\n",
       "    }\n",
       "\n",
       "    .dataframe thead th {\n",
       "        text-align: right;\n",
       "    }\n",
       "</style>\n",
       "<table border=\"1\" class=\"dataframe\">\n",
       "  <thead>\n",
       "    <tr style=\"text-align: right;\">\n",
       "      <th></th>\n",
       "      <th>uid</th>\n",
       "      <th>question_id</th>\n",
       "      <th>test_id</th>\n",
       "      <th>answer</th>\n",
       "      <th>timestamp</th>\n",
       "      <th>tag</th>\n",
       "      <th>test_category</th>\n",
       "    </tr>\n",
       "  </thead>\n",
       "  <tbody>\n",
       "    <tr>\n",
       "      <th>0</th>\n",
       "      <td>0</td>\n",
       "      <td>A060001001</td>\n",
       "      <td>A060001</td>\n",
       "      <td>1</td>\n",
       "      <td>2020-03-24 00:17:11</td>\n",
       "      <td>7224</td>\n",
       "      <td>6</td>\n",
       "    </tr>\n",
       "    <tr>\n",
       "      <th>1</th>\n",
       "      <td>0</td>\n",
       "      <td>A060001002</td>\n",
       "      <td>A060001</td>\n",
       "      <td>1</td>\n",
       "      <td>2020-03-24 00:17:14</td>\n",
       "      <td>7225</td>\n",
       "      <td>6</td>\n",
       "    </tr>\n",
       "    <tr>\n",
       "      <th>2</th>\n",
       "      <td>0</td>\n",
       "      <td>A060001003</td>\n",
       "      <td>A060001</td>\n",
       "      <td>1</td>\n",
       "      <td>2020-03-24 00:17:22</td>\n",
       "      <td>7225</td>\n",
       "      <td>6</td>\n",
       "    </tr>\n",
       "    <tr>\n",
       "      <th>3</th>\n",
       "      <td>0</td>\n",
       "      <td>A060001004</td>\n",
       "      <td>A060001</td>\n",
       "      <td>1</td>\n",
       "      <td>2020-03-24 00:17:29</td>\n",
       "      <td>7225</td>\n",
       "      <td>6</td>\n",
       "    </tr>\n",
       "    <tr>\n",
       "      <th>4</th>\n",
       "      <td>0</td>\n",
       "      <td>A060001005</td>\n",
       "      <td>A060001</td>\n",
       "      <td>1</td>\n",
       "      <td>2020-03-24 00:17:36</td>\n",
       "      <td>7225</td>\n",
       "      <td>6</td>\n",
       "    </tr>\n",
       "  </tbody>\n",
       "</table>\n",
       "</div>"
      ],
      "text/plain": [
       "   uid question_id  test_id  answer           timestamp   tag  test_category\n",
       "0    0  A060001001  A060001       1 2020-03-24 00:17:11  7224              6\n",
       "1    0  A060001002  A060001       1 2020-03-24 00:17:14  7225              6\n",
       "2    0  A060001003  A060001       1 2020-03-24 00:17:22  7225              6\n",
       "3    0  A060001004  A060001       1 2020-03-24 00:17:29  7225              6\n",
       "4    0  A060001005  A060001       1 2020-03-24 00:17:36  7225              6"
      ]
     },
     "execution_count": 16,
     "metadata": {},
     "output_type": "execute_result"
    }
   ],
   "source": [
    "edu_tr.head()"
   ]
  },
  {
   "attachments": {},
   "cell_type": "markdown",
   "metadata": {},
   "source": [
    "#### 🟡 `timestamp`을 통해 `question_lag_time` 생성 및 시간 단위 초로 변경하기"
   ]
  },
  {
   "attachments": {},
   "cell_type": "markdown",
   "metadata": {},
   "source": [
    "`question_lag_time` : 한 문항에서 다음 \"문항\"으로 넘어가는 시간"
   ]
  },
  {
   "cell_type": "code",
   "execution_count": 17,
   "metadata": {},
   "outputs": [
    {
     "data": {
      "text/plain": [
       "uid                       int64\n",
       "question_id              object\n",
       "test_id                  object\n",
       "answer                    int64\n",
       "timestamp        datetime64[ns]\n",
       "tag                       int64\n",
       "test_category              int8\n",
       "dtype: object"
      ]
     },
     "execution_count": 17,
     "metadata": {},
     "output_type": "execute_result"
    }
   ],
   "source": [
    "edu_tr.dtypes"
   ]
  },
  {
   "cell_type": "code",
   "execution_count": 18,
   "metadata": {},
   "outputs": [],
   "source": [
    "# uid와 timestamp 기준으로 정렬\n",
    "edu_tr.sort_values(by=['uid', 'timestamp'], ascending=True, inplace=True)\n",
    "edu_te.sort_values(by=['uid', 'timestamp'], ascending=True, inplace=True)"
   ]
  },
  {
   "cell_type": "code",
   "execution_count": 19,
   "metadata": {},
   "outputs": [
    {
     "data": {
      "text/html": [
       "<div>\n",
       "<style scoped>\n",
       "    .dataframe tbody tr th:only-of-type {\n",
       "        vertical-align: middle;\n",
       "    }\n",
       "\n",
       "    .dataframe tbody tr th {\n",
       "        vertical-align: top;\n",
       "    }\n",
       "\n",
       "    .dataframe thead th {\n",
       "        text-align: right;\n",
       "    }\n",
       "</style>\n",
       "<table border=\"1\" class=\"dataframe\">\n",
       "  <thead>\n",
       "    <tr style=\"text-align: right;\">\n",
       "      <th></th>\n",
       "      <th>uid</th>\n",
       "      <th>question_id</th>\n",
       "      <th>test_id</th>\n",
       "      <th>answer</th>\n",
       "      <th>timestamp</th>\n",
       "      <th>tag</th>\n",
       "      <th>test_category</th>\n",
       "    </tr>\n",
       "  </thead>\n",
       "  <tbody>\n",
       "    <tr>\n",
       "      <th>0</th>\n",
       "      <td>0</td>\n",
       "      <td>A060001001</td>\n",
       "      <td>A060001</td>\n",
       "      <td>1</td>\n",
       "      <td>2020-03-24 00:17:11</td>\n",
       "      <td>7224</td>\n",
       "      <td>6</td>\n",
       "    </tr>\n",
       "    <tr>\n",
       "      <th>1</th>\n",
       "      <td>0</td>\n",
       "      <td>A060001002</td>\n",
       "      <td>A060001</td>\n",
       "      <td>1</td>\n",
       "      <td>2020-03-24 00:17:14</td>\n",
       "      <td>7225</td>\n",
       "      <td>6</td>\n",
       "    </tr>\n",
       "    <tr>\n",
       "      <th>2</th>\n",
       "      <td>0</td>\n",
       "      <td>A060001003</td>\n",
       "      <td>A060001</td>\n",
       "      <td>1</td>\n",
       "      <td>2020-03-24 00:17:22</td>\n",
       "      <td>7225</td>\n",
       "      <td>6</td>\n",
       "    </tr>\n",
       "    <tr>\n",
       "      <th>3</th>\n",
       "      <td>0</td>\n",
       "      <td>A060001004</td>\n",
       "      <td>A060001</td>\n",
       "      <td>1</td>\n",
       "      <td>2020-03-24 00:17:29</td>\n",
       "      <td>7225</td>\n",
       "      <td>6</td>\n",
       "    </tr>\n",
       "    <tr>\n",
       "      <th>4</th>\n",
       "      <td>0</td>\n",
       "      <td>A060001005</td>\n",
       "      <td>A060001</td>\n",
       "      <td>1</td>\n",
       "      <td>2020-03-24 00:17:36</td>\n",
       "      <td>7225</td>\n",
       "      <td>6</td>\n",
       "    </tr>\n",
       "    <tr>\n",
       "      <th>...</th>\n",
       "      <td>...</td>\n",
       "      <td>...</td>\n",
       "      <td>...</td>\n",
       "      <td>...</td>\n",
       "      <td>...</td>\n",
       "      <td>...</td>\n",
       "      <td>...</td>\n",
       "    </tr>\n",
       "    <tr>\n",
       "      <th>2266581</th>\n",
       "      <td>7441</td>\n",
       "      <td>A030071005</td>\n",
       "      <td>A030071</td>\n",
       "      <td>0</td>\n",
       "      <td>2020-06-05 06:50:21</td>\n",
       "      <td>438</td>\n",
       "      <td>3</td>\n",
       "    </tr>\n",
       "    <tr>\n",
       "      <th>2266582</th>\n",
       "      <td>7441</td>\n",
       "      <td>A040165001</td>\n",
       "      <td>A040165</td>\n",
       "      <td>1</td>\n",
       "      <td>2020-08-21 01:06:39</td>\n",
       "      <td>8836</td>\n",
       "      <td>4</td>\n",
       "    </tr>\n",
       "    <tr>\n",
       "      <th>2266583</th>\n",
       "      <td>7441</td>\n",
       "      <td>A040165002</td>\n",
       "      <td>A040165</td>\n",
       "      <td>1</td>\n",
       "      <td>2020-08-21 01:06:50</td>\n",
       "      <td>8836</td>\n",
       "      <td>4</td>\n",
       "    </tr>\n",
       "    <tr>\n",
       "      <th>2266584</th>\n",
       "      <td>7441</td>\n",
       "      <td>A040165003</td>\n",
       "      <td>A040165</td>\n",
       "      <td>1</td>\n",
       "      <td>2020-08-21 01:07:36</td>\n",
       "      <td>8836</td>\n",
       "      <td>4</td>\n",
       "    </tr>\n",
       "    <tr>\n",
       "      <th>2266585</th>\n",
       "      <td>7441</td>\n",
       "      <td>A040165004</td>\n",
       "      <td>A040165</td>\n",
       "      <td>1</td>\n",
       "      <td>2020-08-21 01:08:49</td>\n",
       "      <td>8836</td>\n",
       "      <td>4</td>\n",
       "    </tr>\n",
       "  </tbody>\n",
       "</table>\n",
       "<p>2266586 rows × 7 columns</p>\n",
       "</div>"
      ],
      "text/plain": [
       "          uid question_id  test_id  answer           timestamp   tag  \\\n",
       "0           0  A060001001  A060001       1 2020-03-24 00:17:11  7224   \n",
       "1           0  A060001002  A060001       1 2020-03-24 00:17:14  7225   \n",
       "2           0  A060001003  A060001       1 2020-03-24 00:17:22  7225   \n",
       "3           0  A060001004  A060001       1 2020-03-24 00:17:29  7225   \n",
       "4           0  A060001005  A060001       1 2020-03-24 00:17:36  7225   \n",
       "...       ...         ...      ...     ...                 ...   ...   \n",
       "2266581  7441  A030071005  A030071       0 2020-06-05 06:50:21   438   \n",
       "2266582  7441  A040165001  A040165       1 2020-08-21 01:06:39  8836   \n",
       "2266583  7441  A040165002  A040165       1 2020-08-21 01:06:50  8836   \n",
       "2266584  7441  A040165003  A040165       1 2020-08-21 01:07:36  8836   \n",
       "2266585  7441  A040165004  A040165       1 2020-08-21 01:08:49  8836   \n",
       "\n",
       "         test_category  \n",
       "0                    6  \n",
       "1                    6  \n",
       "2                    6  \n",
       "3                    6  \n",
       "4                    6  \n",
       "...                ...  \n",
       "2266581              3  \n",
       "2266582              4  \n",
       "2266583              4  \n",
       "2266584              4  \n",
       "2266585              4  \n",
       "\n",
       "[2266586 rows x 7 columns]"
      ]
     },
     "execution_count": 19,
     "metadata": {},
     "output_type": "execute_result"
    }
   ],
   "source": [
    "edu_tr"
   ]
  },
  {
   "cell_type": "code",
   "execution_count": 20,
   "metadata": {},
   "outputs": [],
   "source": [
    "# https://stackoverflow.com/questions/74872281/pandas-how-i-find-the-lag-difference-days-in-treatment-for-each-patient\n",
    "question_lag_time = edu_tr.groupby(['uid', 'test_id'])['timestamp'].diff().dt.seconds.fillna(0, downcast='int')\n",
    "question_lag_time_te = edu_te.groupby(['uid', 'test_id'])['timestamp'].diff().dt.seconds.fillna(0, downcast='int')"
   ]
  },
  {
   "cell_type": "code",
   "execution_count": 21,
   "metadata": {},
   "outputs": [
    {
     "data": {
      "text/plain": [
       "0           0\n",
       "1           3\n",
       "2           8\n",
       "3           7\n",
       "4           7\n",
       "           ..\n",
       "2266581    24\n",
       "2266582     0\n",
       "2266583    11\n",
       "2266584    46\n",
       "2266585    73\n",
       "Name: timestamp, Length: 2266586, dtype: int64"
      ]
     },
     "execution_count": 21,
     "metadata": {},
     "output_type": "execute_result"
    }
   ],
   "source": [
    "question_lag_time"
   ]
  },
  {
   "attachments": {},
   "cell_type": "markdown",
   "metadata": {},
   "source": [
    "#### 🟡 `question_lag_time` 이상치 처리  및 scale 조정하기"
   ]
  },
  {
   "cell_type": "code",
   "execution_count": 22,
   "metadata": {},
   "outputs": [
    {
     "data": {
      "text/plain": [
       "0.20     2.0\n",
       "0.50    20.0\n",
       "0.85    92.0\n",
       "Name: timestamp, dtype: float64"
      ]
     },
     "execution_count": 22,
     "metadata": {},
     "output_type": "execute_result"
    }
   ],
   "source": [
    "question_lag_time.quantile([0.2, 0.5, 0.85])"
   ]
  },
  {
   "cell_type": "code",
   "execution_count": 23,
   "metadata": {},
   "outputs": [
    {
     "data": {
      "text/plain": [
       "count    2.266586e+06\n",
       "mean     2.372714e+02\n",
       "std      3.165030e+03\n",
       "min      0.000000e+00\n",
       "25%      3.000000e+00\n",
       "50%      2.000000e+01\n",
       "75%      5.400000e+01\n",
       "max      8.639900e+04\n",
       "Name: timestamp, dtype: float64"
      ]
     },
     "execution_count": 23,
     "metadata": {},
     "output_type": "execute_result"
    }
   ],
   "source": [
    "question_lag_time.describe()"
   ]
  },
  {
   "cell_type": "code",
   "execution_count": 24,
   "metadata": {},
   "outputs": [],
   "source": [
    "edu_tr['question_lag_time'] = question_lag_time\n",
    "edu_te['question_lag_time'] = question_lag_time_te"
   ]
  },
  {
   "cell_type": "code",
   "execution_count": 25,
   "metadata": {},
   "outputs": [
    {
     "data": {
      "image/png": "[encoded data removed]",
      "text/plain": [
       "<Figure size 640x480 with 1 Axes>"
      ]
     },
     "metadata": {},
     "output_type": "display_data"
    }
   ],
   "source": [
    "plt.boxplot(edu_tr['question_lag_time'])\n",
    "plt.title('Boxplot of question_lag_time')\n",
    "plt.xticks([1], ['question_lag_time'])\n",
    "plt.show();"
   ]
  },
  {
   "cell_type": "code",
   "execution_count": 26,
   "metadata": {},
   "outputs": [],
   "source": [
    "# QuantileTransformer를 통해 scale 조정\n",
    "scaler_question_lag_time = QuantileTransformer(n_quantiles=100, random_state=42, output_distribution='normal')\n",
    "raw_vec_question_lag_time = edu_tr.question_lag_time.values.reshape(-1, 1)\n",
    "\n",
    "scaler_question_lag_time.fit(raw_vec_question_lag_time)\n",
    "\n",
    "edu_tr.question_lag_time = scaler_question_lag_time.transform(raw_vec_question_lag_time).reshape(1, -1)[0]"
   ]
  },
  {
   "cell_type": "code",
   "execution_count": 27,
   "metadata": {},
   "outputs": [],
   "source": [
    "# QuantileTransformer를 통해 scale 조정\n",
    "scaler_question_lag_time_te = QuantileTransformer(n_quantiles=100, random_state=42, output_distribution='normal')\n",
    "raw_vec_question_lag_time_te = edu_te.question_lag_time.values.reshape(-1, 1)\n",
    "\n",
    "scaler_question_lag_time_te.fit(raw_vec_question_lag_time_te)\n",
    "\n",
    "edu_te.question_lag_time = scaler_question_lag_time_te.transform(raw_vec_question_lag_time_te).reshape(1, -1)[0]"
   ]
  },
  {
   "cell_type": "code",
   "execution_count": 28,
   "metadata": {},
   "outputs": [
    {
     "data": {
      "image/png": "[encoded data removed]",
      "text/plain": [
       "<Figure size 640x480 with 1 Axes>"
      ]
     },
     "metadata": {},
     "output_type": "display_data"
    }
   ],
   "source": [
    "plt.boxplot(edu_tr['question_lag_time'])\n",
    "plt.title('Boxplot of question_lag_time')\n",
    "plt.xticks([1], ['question_lag_time'])\n",
    "plt.show();"
   ]
  },
  {
   "attachments": {},
   "cell_type": "markdown",
   "metadata": {},
   "source": [
    "#### 🟡 `test_timestamp` 생성하기 "
   ]
  },
  {
   "attachments": {},
   "cell_type": "markdown",
   "metadata": {},
   "source": [
    "`test_timestamp` : 해당 \"시험지\"를 풀기 시작한 시점 feature 생성하기"
   ]
  },
  {
   "cell_type": "code",
   "execution_count": 29,
   "metadata": {},
   "outputs": [
    {
     "data": {
      "text/html": [
       "<div>\n",
       "<style scoped>\n",
       "    .dataframe tbody tr th:only-of-type {\n",
       "        vertical-align: middle;\n",
       "    }\n",
       "\n",
       "    .dataframe tbody tr th {\n",
       "        vertical-align: top;\n",
       "    }\n",
       "\n",
       "    .dataframe thead th {\n",
       "        text-align: right;\n",
       "    }\n",
       "</style>\n",
       "<table border=\"1\" class=\"dataframe\">\n",
       "  <thead>\n",
       "    <tr style=\"text-align: right;\">\n",
       "      <th></th>\n",
       "      <th>uid</th>\n",
       "      <th>question_id</th>\n",
       "      <th>test_id</th>\n",
       "      <th>answer</th>\n",
       "      <th>timestamp</th>\n",
       "      <th>tag</th>\n",
       "      <th>test_category</th>\n",
       "      <th>question_lag_time</th>\n",
       "    </tr>\n",
       "  </thead>\n",
       "  <tbody>\n",
       "    <tr>\n",
       "      <th>0</th>\n",
       "      <td>0</td>\n",
       "      <td>A060001001</td>\n",
       "      <td>A060001</td>\n",
       "      <td>1</td>\n",
       "      <td>2020-03-24 00:17:11</td>\n",
       "      <td>7224</td>\n",
       "      <td>6</td>\n",
       "      <td>-5.199338</td>\n",
       "    </tr>\n",
       "    <tr>\n",
       "      <th>1</th>\n",
       "      <td>0</td>\n",
       "      <td>A060001002</td>\n",
       "      <td>A060001</td>\n",
       "      <td>1</td>\n",
       "      <td>2020-03-24 00:17:14</td>\n",
       "      <td>7225</td>\n",
       "      <td>6</td>\n",
       "      <td>-0.650837</td>\n",
       "    </tr>\n",
       "    <tr>\n",
       "      <th>2</th>\n",
       "      <td>0</td>\n",
       "      <td>A060001003</td>\n",
       "      <td>A060001</td>\n",
       "      <td>1</td>\n",
       "      <td>2020-03-24 00:17:22</td>\n",
       "      <td>7225</td>\n",
       "      <td>6</td>\n",
       "      <td>-0.403108</td>\n",
       "    </tr>\n",
       "    <tr>\n",
       "      <th>3</th>\n",
       "      <td>0</td>\n",
       "      <td>A060001004</td>\n",
       "      <td>A060001</td>\n",
       "      <td>1</td>\n",
       "      <td>2020-03-24 00:17:29</td>\n",
       "      <td>7225</td>\n",
       "      <td>6</td>\n",
       "      <td>-0.430727</td>\n",
       "    </tr>\n",
       "    <tr>\n",
       "      <th>4</th>\n",
       "      <td>0</td>\n",
       "      <td>A060001005</td>\n",
       "      <td>A060001</td>\n",
       "      <td>1</td>\n",
       "      <td>2020-03-24 00:17:36</td>\n",
       "      <td>7225</td>\n",
       "      <td>6</td>\n",
       "      <td>-0.430727</td>\n",
       "    </tr>\n",
       "    <tr>\n",
       "      <th>...</th>\n",
       "      <td>...</td>\n",
       "      <td>...</td>\n",
       "      <td>...</td>\n",
       "      <td>...</td>\n",
       "      <td>...</td>\n",
       "      <td>...</td>\n",
       "      <td>...</td>\n",
       "      <td>...</td>\n",
       "    </tr>\n",
       "    <tr>\n",
       "      <th>2266581</th>\n",
       "      <td>7441</td>\n",
       "      <td>A030071005</td>\n",
       "      <td>A030071</td>\n",
       "      <td>0</td>\n",
       "      <td>2020-06-05 06:50:21</td>\n",
       "      <td>438</td>\n",
       "      <td>3</td>\n",
       "      <td>0.114185</td>\n",
       "    </tr>\n",
       "    <tr>\n",
       "      <th>2266582</th>\n",
       "      <td>7441</td>\n",
       "      <td>A040165001</td>\n",
       "      <td>A040165</td>\n",
       "      <td>1</td>\n",
       "      <td>2020-08-21 01:06:39</td>\n",
       "      <td>8836</td>\n",
       "      <td>4</td>\n",
       "      <td>-5.199338</td>\n",
       "    </tr>\n",
       "    <tr>\n",
       "      <th>2266583</th>\n",
       "      <td>7441</td>\n",
       "      <td>A040165002</td>\n",
       "      <td>A040165</td>\n",
       "      <td>1</td>\n",
       "      <td>2020-08-21 01:06:50</td>\n",
       "      <td>8836</td>\n",
       "      <td>4</td>\n",
       "      <td>-0.295415</td>\n",
       "    </tr>\n",
       "    <tr>\n",
       "      <th>2266584</th>\n",
       "      <td>7441</td>\n",
       "      <td>A040165003</td>\n",
       "      <td>A040165</td>\n",
       "      <td>1</td>\n",
       "      <td>2020-08-21 01:07:36</td>\n",
       "      <td>8836</td>\n",
       "      <td>4</td>\n",
       "      <td>0.559592</td>\n",
       "    </tr>\n",
       "    <tr>\n",
       "      <th>2266585</th>\n",
       "      <td>7441</td>\n",
       "      <td>A040165004</td>\n",
       "      <td>A040165</td>\n",
       "      <td>1</td>\n",
       "      <td>2020-08-21 01:08:49</td>\n",
       "      <td>8836</td>\n",
       "      <td>4</td>\n",
       "      <td>0.880132</td>\n",
       "    </tr>\n",
       "  </tbody>\n",
       "</table>\n",
       "<p>2266586 rows × 8 columns</p>\n",
       "</div>"
      ],
      "text/plain": [
       "          uid question_id  test_id  answer           timestamp   tag  \\\n",
       "0           0  A060001001  A060001       1 2020-03-24 00:17:11  7224   \n",
       "1           0  A060001002  A060001       1 2020-03-24 00:17:14  7225   \n",
       "2           0  A060001003  A060001       1 2020-03-24 00:17:22  7225   \n",
       "3           0  A060001004  A060001       1 2020-03-24 00:17:29  7225   \n",
       "4           0  A060001005  A060001       1 2020-03-24 00:17:36  7225   \n",
       "...       ...         ...      ...     ...                 ...   ...   \n",
       "2266581  7441  A030071005  A030071       0 2020-06-05 06:50:21   438   \n",
       "2266582  7441  A040165001  A040165       1 2020-08-21 01:06:39  8836   \n",
       "2266583  7441  A040165002  A040165       1 2020-08-21 01:06:50  8836   \n",
       "2266584  7441  A040165003  A040165       1 2020-08-21 01:07:36  8836   \n",
       "2266585  7441  A040165004  A040165       1 2020-08-21 01:08:49  8836   \n",
       "\n",
       "         test_category  question_lag_time  \n",
       "0                    6          -5.199338  \n",
       "1                    6          -0.650837  \n",
       "2                    6          -0.403108  \n",
       "3                    6          -0.430727  \n",
       "4                    6          -0.430727  \n",
       "...                ...                ...  \n",
       "2266581              3           0.114185  \n",
       "2266582              4          -5.199338  \n",
       "2266583              4          -0.295415  \n",
       "2266584              4           0.559592  \n",
       "2266585              4           0.880132  \n",
       "\n",
       "[2266586 rows x 8 columns]"
      ]
     },
     "execution_count": 29,
     "metadata": {},
     "output_type": "execute_result"
    }
   ],
   "source": [
    "edu_tr"
   ]
  },
  {
   "cell_type": "code",
   "execution_count": 30,
   "metadata": {},
   "outputs": [],
   "source": [
    "# https://stackoverflow.com/questions/41525911/group-by-pandas-dataframe-and-select-latest-in-each-group\n",
    "test_timestamp = edu_tr.groupby(['uid', 'test_id']).agg(test_timestamp=('timestamp', min))\n",
    "test_timestamp_te = edu_te.groupby(['uid', 'test_id']).agg(test_timestamp=('timestamp', min))"
   ]
  },
  {
   "cell_type": "code",
   "execution_count": 31,
   "metadata": {},
   "outputs": [
    {
     "data": {
      "text/html": [
       "<div>\n",
       "<style scoped>\n",
       "    .dataframe tbody tr th:only-of-type {\n",
       "        vertical-align: middle;\n",
       "    }\n",
       "\n",
       "    .dataframe tbody tr th {\n",
       "        vertical-align: top;\n",
       "    }\n",
       "\n",
       "    .dataframe thead th {\n",
       "        text-align: right;\n",
       "    }\n",
       "</style>\n",
       "<table border=\"1\" class=\"dataframe\">\n",
       "  <thead>\n",
       "    <tr style=\"text-align: right;\">\n",
       "      <th></th>\n",
       "      <th></th>\n",
       "      <th>test_timestamp</th>\n",
       "    </tr>\n",
       "    <tr>\n",
       "      <th>uid</th>\n",
       "      <th>test_id</th>\n",
       "      <th></th>\n",
       "    </tr>\n",
       "  </thead>\n",
       "  <tbody>\n",
       "    <tr>\n",
       "      <th rowspan=\"5\" valign=\"top\">0</th>\n",
       "      <th>A020172</th>\n",
       "      <td>2020-10-11 11:06:47</td>\n",
       "    </tr>\n",
       "    <tr>\n",
       "      <th>A020174</th>\n",
       "      <td>2020-10-17 10:56:12</td>\n",
       "    </tr>\n",
       "    <tr>\n",
       "      <th>A020181</th>\n",
       "      <td>2020-10-18 09:33:27</td>\n",
       "    </tr>\n",
       "    <tr>\n",
       "      <th>A020182</th>\n",
       "      <td>2020-10-21 10:11:49</td>\n",
       "    </tr>\n",
       "    <tr>\n",
       "      <th>A020183</th>\n",
       "      <td>2020-10-22 09:19:40</td>\n",
       "    </tr>\n",
       "    <tr>\n",
       "      <th>...</th>\n",
       "      <th>...</th>\n",
       "      <td>...</td>\n",
       "    </tr>\n",
       "    <tr>\n",
       "      <th rowspan=\"3\" valign=\"top\">7440</th>\n",
       "      <th>A030136</th>\n",
       "      <td>2020-09-23 09:19:35</td>\n",
       "    </tr>\n",
       "    <tr>\n",
       "      <th>A030197</th>\n",
       "      <td>2020-10-21 08:31:45</td>\n",
       "    </tr>\n",
       "    <tr>\n",
       "      <th>A050096</th>\n",
       "      <td>2020-08-19 04:57:19</td>\n",
       "    </tr>\n",
       "    <tr>\n",
       "      <th rowspan=\"2\" valign=\"top\">7441</th>\n",
       "      <th>A030071</th>\n",
       "      <td>2020-06-05 06:46:41</td>\n",
       "    </tr>\n",
       "    <tr>\n",
       "      <th>A040165</th>\n",
       "      <td>2020-08-21 01:06:39</td>\n",
       "    </tr>\n",
       "  </tbody>\n",
       "</table>\n",
       "<p>365164 rows × 1 columns</p>\n",
       "</div>"
      ],
      "text/plain": [
       "                  test_timestamp\n",
       "uid  test_id                    \n",
       "0    A020172 2020-10-11 11:06:47\n",
       "     A020174 2020-10-17 10:56:12\n",
       "     A020181 2020-10-18 09:33:27\n",
       "     A020182 2020-10-21 10:11:49\n",
       "     A020183 2020-10-22 09:19:40\n",
       "...                          ...\n",
       "7440 A030136 2020-09-23 09:19:35\n",
       "     A030197 2020-10-21 08:31:45\n",
       "     A050096 2020-08-19 04:57:19\n",
       "7441 A030071 2020-06-05 06:46:41\n",
       "     A040165 2020-08-21 01:06:39\n",
       "\n",
       "[365164 rows x 1 columns]"
      ]
     },
     "execution_count": 31,
     "metadata": {},
     "output_type": "execute_result"
    }
   ],
   "source": [
    "test_timestamp"
   ]
  },
  {
   "cell_type": "code",
   "execution_count": 32,
   "metadata": {},
   "outputs": [
    {
     "data": {
      "text/html": [
       "<div>\n",
       "<style scoped>\n",
       "    .dataframe tbody tr th:only-of-type {\n",
       "        vertical-align: middle;\n",
       "    }\n",
       "\n",
       "    .dataframe tbody tr th {\n",
       "        vertical-align: top;\n",
       "    }\n",
       "\n",
       "    .dataframe thead th {\n",
       "        text-align: right;\n",
       "    }\n",
       "</style>\n",
       "<table border=\"1\" class=\"dataframe\">\n",
       "  <thead>\n",
       "    <tr style=\"text-align: right;\">\n",
       "      <th></th>\n",
       "      <th>uid</th>\n",
       "      <th>test_id</th>\n",
       "      <th>test_timestamp</th>\n",
       "    </tr>\n",
       "  </thead>\n",
       "  <tbody>\n",
       "    <tr>\n",
       "      <th>0</th>\n",
       "      <td>0</td>\n",
       "      <td>A020172</td>\n",
       "      <td>2020-10-11 11:06:47</td>\n",
       "    </tr>\n",
       "    <tr>\n",
       "      <th>1</th>\n",
       "      <td>0</td>\n",
       "      <td>A020174</td>\n",
       "      <td>2020-10-17 10:56:12</td>\n",
       "    </tr>\n",
       "    <tr>\n",
       "      <th>2</th>\n",
       "      <td>0</td>\n",
       "      <td>A020181</td>\n",
       "      <td>2020-10-18 09:33:27</td>\n",
       "    </tr>\n",
       "    <tr>\n",
       "      <th>3</th>\n",
       "      <td>0</td>\n",
       "      <td>A020182</td>\n",
       "      <td>2020-10-21 10:11:49</td>\n",
       "    </tr>\n",
       "    <tr>\n",
       "      <th>4</th>\n",
       "      <td>0</td>\n",
       "      <td>A020183</td>\n",
       "      <td>2020-10-22 09:19:40</td>\n",
       "    </tr>\n",
       "    <tr>\n",
       "      <th>...</th>\n",
       "      <td>...</td>\n",
       "      <td>...</td>\n",
       "      <td>...</td>\n",
       "    </tr>\n",
       "    <tr>\n",
       "      <th>365159</th>\n",
       "      <td>7440</td>\n",
       "      <td>A030136</td>\n",
       "      <td>2020-09-23 09:19:35</td>\n",
       "    </tr>\n",
       "    <tr>\n",
       "      <th>365160</th>\n",
       "      <td>7440</td>\n",
       "      <td>A030197</td>\n",
       "      <td>2020-10-21 08:31:45</td>\n",
       "    </tr>\n",
       "    <tr>\n",
       "      <th>365161</th>\n",
       "      <td>7440</td>\n",
       "      <td>A050096</td>\n",
       "      <td>2020-08-19 04:57:19</td>\n",
       "    </tr>\n",
       "    <tr>\n",
       "      <th>365162</th>\n",
       "      <td>7441</td>\n",
       "      <td>A030071</td>\n",
       "      <td>2020-06-05 06:46:41</td>\n",
       "    </tr>\n",
       "    <tr>\n",
       "      <th>365163</th>\n",
       "      <td>7441</td>\n",
       "      <td>A040165</td>\n",
       "      <td>2020-08-21 01:06:39</td>\n",
       "    </tr>\n",
       "  </tbody>\n",
       "</table>\n",
       "<p>365164 rows × 3 columns</p>\n",
       "</div>"
      ],
      "text/plain": [
       "         uid  test_id      test_timestamp\n",
       "0          0  A020172 2020-10-11 11:06:47\n",
       "1          0  A020174 2020-10-17 10:56:12\n",
       "2          0  A020181 2020-10-18 09:33:27\n",
       "3          0  A020182 2020-10-21 10:11:49\n",
       "4          0  A020183 2020-10-22 09:19:40\n",
       "...      ...      ...                 ...\n",
       "365159  7440  A030136 2020-09-23 09:19:35\n",
       "365160  7440  A030197 2020-10-21 08:31:45\n",
       "365161  7440  A050096 2020-08-19 04:57:19\n",
       "365162  7441  A030071 2020-06-05 06:46:41\n",
       "365163  7441  A040165 2020-08-21 01:06:39\n",
       "\n",
       "[365164 rows x 3 columns]"
      ]
     },
     "execution_count": 32,
     "metadata": {},
     "output_type": "execute_result"
    }
   ],
   "source": [
    "test_timestamp.reset_index(inplace=True)\n",
    "test_timestamp"
   ]
  },
  {
   "cell_type": "code",
   "execution_count": 33,
   "metadata": {},
   "outputs": [],
   "source": [
    "test_timestamp_te.reset_index(inplace=True)"
   ]
  },
  {
   "cell_type": "code",
   "execution_count": 34,
   "metadata": {},
   "outputs": [],
   "source": [
    "# 기존 edu_tr과 test_timestamp 합치기\n",
    "edu_tr = pd.merge(left=edu_tr, right=test_timestamp, how='left', on=['uid', 'test_id'], sort=True)\n",
    "edu_te = pd.merge(left=edu_te, right=test_timestamp_te, how='left', on=['uid', 'test_id'], sort=True)"
   ]
  },
  {
   "cell_type": "code",
   "execution_count": 35,
   "metadata": {},
   "outputs": [
    {
     "data": {
      "text/html": [
       "<div>\n",
       "<style scoped>\n",
       "    .dataframe tbody tr th:only-of-type {\n",
       "        vertical-align: middle;\n",
       "    }\n",
       "\n",
       "    .dataframe tbody tr th {\n",
       "        vertical-align: top;\n",
       "    }\n",
       "\n",
       "    .dataframe thead th {\n",
       "        text-align: right;\n",
       "    }\n",
       "</style>\n",
       "<table border=\"1\" class=\"dataframe\">\n",
       "  <thead>\n",
       "    <tr style=\"text-align: right;\">\n",
       "      <th></th>\n",
       "      <th>uid</th>\n",
       "      <th>question_id</th>\n",
       "      <th>test_id</th>\n",
       "      <th>answer</th>\n",
       "      <th>timestamp</th>\n",
       "      <th>tag</th>\n",
       "      <th>test_category</th>\n",
       "      <th>question_lag_time</th>\n",
       "      <th>test_timestamp</th>\n",
       "    </tr>\n",
       "  </thead>\n",
       "  <tbody>\n",
       "    <tr>\n",
       "      <th>0</th>\n",
       "      <td>0</td>\n",
       "      <td>A020172001</td>\n",
       "      <td>A020172</td>\n",
       "      <td>1</td>\n",
       "      <td>2020-10-11 11:06:47</td>\n",
       "      <td>8132</td>\n",
       "      <td>2</td>\n",
       "      <td>-5.199338</td>\n",
       "      <td>2020-10-11 11:06:47</td>\n",
       "    </tr>\n",
       "    <tr>\n",
       "      <th>1</th>\n",
       "      <td>0</td>\n",
       "      <td>A020172002</td>\n",
       "      <td>A020172</td>\n",
       "      <td>1</td>\n",
       "      <td>2020-10-11 11:06:56</td>\n",
       "      <td>8132</td>\n",
       "      <td>2</td>\n",
       "      <td>-0.362241</td>\n",
       "      <td>2020-10-11 11:06:47</td>\n",
       "    </tr>\n",
       "    <tr>\n",
       "      <th>2</th>\n",
       "      <td>0</td>\n",
       "      <td>A020172003</td>\n",
       "      <td>A020172</td>\n",
       "      <td>1</td>\n",
       "      <td>2020-10-11 11:07:13</td>\n",
       "      <td>8132</td>\n",
       "      <td>2</td>\n",
       "      <td>-0.088734</td>\n",
       "      <td>2020-10-11 11:06:47</td>\n",
       "    </tr>\n",
       "    <tr>\n",
       "      <th>3</th>\n",
       "      <td>0</td>\n",
       "      <td>A020172004</td>\n",
       "      <td>A020172</td>\n",
       "      <td>1</td>\n",
       "      <td>2020-10-11 11:07:46</td>\n",
       "      <td>8132</td>\n",
       "      <td>2</td>\n",
       "      <td>0.335333</td>\n",
       "      <td>2020-10-11 11:06:47</td>\n",
       "    </tr>\n",
       "    <tr>\n",
       "      <th>4</th>\n",
       "      <td>0</td>\n",
       "      <td>A020172005</td>\n",
       "      <td>A020172</td>\n",
       "      <td>0</td>\n",
       "      <td>2020-10-11 11:08:20</td>\n",
       "      <td>8132</td>\n",
       "      <td>2</td>\n",
       "      <td>0.348756</td>\n",
       "      <td>2020-10-11 11:06:47</td>\n",
       "    </tr>\n",
       "  </tbody>\n",
       "</table>\n",
       "</div>"
      ],
      "text/plain": [
       "   uid question_id  test_id  answer           timestamp   tag  test_category  \\\n",
       "0    0  A020172001  A020172       1 2020-10-11 11:06:47  8132              2   \n",
       "1    0  A020172002  A020172       1 2020-10-11 11:06:56  8132              2   \n",
       "2    0  A020172003  A020172       1 2020-10-11 11:07:13  8132              2   \n",
       "3    0  A020172004  A020172       1 2020-10-11 11:07:46  8132              2   \n",
       "4    0  A020172005  A020172       0 2020-10-11 11:08:20  8132              2   \n",
       "\n",
       "   question_lag_time      test_timestamp  \n",
       "0          -5.199338 2020-10-11 11:06:47  \n",
       "1          -0.362241 2020-10-11 11:06:47  \n",
       "2          -0.088734 2020-10-11 11:06:47  \n",
       "3           0.335333 2020-10-11 11:06:47  \n",
       "4           0.348756 2020-10-11 11:06:47  "
      ]
     },
     "execution_count": 35,
     "metadata": {},
     "output_type": "execute_result"
    }
   ],
   "source": [
    "edu_tr.head()"
   ]
  },
  {
   "attachments": {},
   "cell_type": "markdown",
   "metadata": {},
   "source": [
    "#### 🟡 `test_lag_time` 생성하기 및 scale 조정하기 "
   ]
  },
  {
   "attachments": {},
   "cell_type": "markdown",
   "metadata": {},
   "source": [
    "`test_lag_time` : 한 \"시험지\"에서 다음 \"시험지\"로 넘어가는 시간  \n",
    "앞서, `question_lag_time`은 seconds 기준이었다면, `test_lag_time`은 hour 기준으로."
   ]
  },
  {
   "cell_type": "code",
   "execution_count": 36,
   "metadata": {},
   "outputs": [],
   "source": [
    "# uid와 test_timestamp 기준으로 정렬\n",
    "edu_tr.sort_values(by=['uid', 'test_timestamp'], ascending=True, inplace=True)\n",
    "edu_te.sort_values(by=['uid', 'test_timestamp'], ascending=True, inplace=True)"
   ]
  },
  {
   "cell_type": "code",
   "execution_count": 37,
   "metadata": {},
   "outputs": [],
   "source": [
    "test_lag_time = edu_tr.groupby('uid')['test_timestamp'].diff().dt.total_seconds() // 3600\n",
    "test_lag_time_te = edu_te.groupby('uid')['test_timestamp'].diff().dt.total_seconds() // 3600"
   ]
  },
  {
   "cell_type": "code",
   "execution_count": 38,
   "metadata": {},
   "outputs": [
    {
     "data": {
      "text/plain": [
       "36            NaN\n",
       "37            0.0\n",
       "38            0.0\n",
       "39            0.0\n",
       "40            0.0\n",
       "            ...  \n",
       "2266581       0.0\n",
       "2266582    1842.0\n",
       "2266583       0.0\n",
       "2266584       0.0\n",
       "2266585       0.0\n",
       "Name: test_timestamp, Length: 2266586, dtype: float64"
      ]
     },
     "execution_count": 38,
     "metadata": {},
     "output_type": "execute_result"
    }
   ],
   "source": [
    "test_lag_time"
   ]
  },
  {
   "cell_type": "code",
   "execution_count": 39,
   "metadata": {},
   "outputs": [],
   "source": [
    "test_lag_time.replace(0, np.NaN, inplace=True) # 0을 결측값으로 변경\n",
    "test_lag_time.fillna(method='pad', inplace=True) # 결측값을 앞 방향으로 채우기\n",
    "test_lag_time.fillna(0, inplace=True) "
   ]
  },
  {
   "cell_type": "code",
   "execution_count": 40,
   "metadata": {},
   "outputs": [],
   "source": [
    "test_lag_time_te.replace(0, np.NaN, inplace=True) # 0을 결측값으로 변경\n",
    "test_lag_time_te.fillna(method='pad', inplace=True) # 결측값을 앞 방향으로 채우기\n",
    "test_lag_time_te.fillna(0, inplace=True) "
   ]
  },
  {
   "cell_type": "code",
   "execution_count": 41,
   "metadata": {},
   "outputs": [
    {
     "data": {
      "text/plain": [
       "0"
      ]
     },
     "execution_count": 41,
     "metadata": {},
     "output_type": "execute_result"
    }
   ],
   "source": [
    "test_lag_time.isnull().sum()"
   ]
  },
  {
   "cell_type": "code",
   "execution_count": 42,
   "metadata": {},
   "outputs": [
    {
     "data": {
      "text/plain": [
       "0.20     20.0\n",
       "0.50     47.0\n",
       "0.95    311.0\n",
       "Name: test_timestamp, dtype: float64"
      ]
     },
     "execution_count": 42,
     "metadata": {},
     "output_type": "execute_result"
    }
   ],
   "source": [
    "test_lag_time.quantile([0.2, 0.5, 0.95])"
   ]
  },
  {
   "cell_type": "code",
   "execution_count": 43,
   "metadata": {},
   "outputs": [],
   "source": [
    "test_lag_time.clip(lower=0, upper=300, inplace=True)\n",
    "test_lag_time_te.clip(lower=0, upper=300, inplace=True)"
   ]
  },
  {
   "cell_type": "code",
   "execution_count": 44,
   "metadata": {},
   "outputs": [
    {
     "data": {
      "text/plain": [
       "count    2.266586e+06\n",
       "mean     7.252383e+01\n",
       "std      7.553990e+01\n",
       "min      0.000000e+00\n",
       "25%      2.200000e+01\n",
       "50%      4.700000e+01\n",
       "75%      9.600000e+01\n",
       "max      3.000000e+02\n",
       "Name: test_timestamp, dtype: float64"
      ]
     },
     "execution_count": 44,
     "metadata": {},
     "output_type": "execute_result"
    }
   ],
   "source": [
    "test_lag_time.describe()"
   ]
  },
  {
   "cell_type": "code",
   "execution_count": 45,
   "metadata": {},
   "outputs": [],
   "source": [
    "edu_tr['test_lag_time'] = test_lag_time\n",
    "edu_te['test_lag_time'] = test_lag_time_te"
   ]
  },
  {
   "cell_type": "code",
   "execution_count": 46,
   "metadata": {},
   "outputs": [
    {
     "data": {
      "image/png": "[encoded data removed]",
      "text/plain": [
       "<Figure size 640x480 with 1 Axes>"
      ]
     },
     "metadata": {},
     "output_type": "display_data"
    }
   ],
   "source": [
    "plt.boxplot(edu_tr['test_lag_time'])\n",
    "plt.title('Boxplot of test_lag_time')\n",
    "plt.xticks([1], ['test_lag_time'])\n",
    "plt.show();"
   ]
  },
  {
   "cell_type": "code",
   "execution_count": 47,
   "metadata": {},
   "outputs": [],
   "source": [
    "# QuantileTransformer를 통해 scale 조정\n",
    "scaler_test_lag_time = QuantileTransformer(n_quantiles=100, random_state=42, output_distribution='normal')\n",
    "raw_vec_test_lag_time = edu_tr.test_lag_time.values.reshape(-1, 1)\n",
    "\n",
    "scaler_test_lag_time.fit(raw_vec_test_lag_time)\n",
    "\n",
    "edu_tr.test_lag_time = scaler_test_lag_time.transform(raw_vec_test_lag_time).reshape(1, -1)[0]"
   ]
  },
  {
   "cell_type": "code",
   "execution_count": 48,
   "metadata": {},
   "outputs": [],
   "source": [
    "scaler_test_lag_time_te = QuantileTransformer(n_quantiles=100, random_state=42, output_distribution='normal')\n",
    "raw_vec_test_lag_time_te = edu_te.test_lag_time.values.reshape(-1, 1)\n",
    "\n",
    "scaler_test_lag_time_te.fit(raw_vec_test_lag_time_te)\n",
    "\n",
    "edu_te.test_lag_time = scaler_test_lag_time_te.transform(raw_vec_test_lag_time_te).reshape(1, -1)[0]"
   ]
  },
  {
   "cell_type": "code",
   "execution_count": 49,
   "metadata": {},
   "outputs": [
    {
     "data": {
      "image/png": "[encoded data removed]",
      "text/plain": [
       "<Figure size 640x480 with 1 Axes>"
      ]
     },
     "metadata": {},
     "output_type": "display_data"
    }
   ],
   "source": [
    "plt.boxplot(edu_tr['test_lag_time'])\n",
    "plt.title('Boxplot of test_lag_time')\n",
    "plt.xticks([1], ['test_lag_time'])\n",
    "plt.show();"
   ]
  },
  {
   "attachments": {},
   "cell_type": "markdown",
   "metadata": {},
   "source": [
    "#### 🟡 `avg_answer` 총 문제 푼 수 대비 맞춘 점수 feature 생성하기"
   ]
  },
  {
   "cell_type": "code",
   "execution_count": 50,
   "metadata": {},
   "outputs": [
    {
     "data": {
      "text/plain": [
       "36    100\n",
       "37    100\n",
       "38    100\n",
       "39    100\n",
       "40    100\n",
       "41    100\n",
       "42     86\n",
       "43     88\n",
       "44     89\n",
       "45     90\n",
       "dtype: int32"
      ]
     },
     "execution_count": 50,
     "metadata": {},
     "output_type": "execute_result"
    }
   ],
   "source": [
    "ans_cumsum = edu_tr.groupby('uid')['answer'].cumsum()\n",
    "ans_cumcount = edu_tr.groupby('uid')['answer'].cumcount() + 1\n",
    "\n",
    "avg_answer = round(ans_cumsum/ans_cumcount*100).astype(np.int32)\n",
    "avg_answer[:10]"
   ]
  },
  {
   "cell_type": "code",
   "execution_count": 51,
   "metadata": {},
   "outputs": [],
   "source": [
    "ans_cumsum_te = edu_te.groupby('uid')['answer'].cumsum()\n",
    "ans_cumcount_te = edu_te.groupby('uid')['answer'].cumcount() + 1\n",
    "\n",
    "avg_answer_te = round(ans_cumsum_te/ans_cumcount_te*100).astype(np.int32)"
   ]
  },
  {
   "cell_type": "code",
   "execution_count": 52,
   "metadata": {},
   "outputs": [
    {
     "data": {
      "image/png": "[encoded data removed]",
      "text/plain": [
       "<Figure size 1500x500 with 1 Axes>"
      ]
     },
     "metadata": {},
     "output_type": "display_data"
    }
   ],
   "source": [
    "plt.figure(figsize=(15, 5))\n",
    "avg_answer.value_counts().plot(kind='bar');"
   ]
  },
  {
   "cell_type": "code",
   "execution_count": 53,
   "metadata": {},
   "outputs": [
    {
     "data": {
      "text/plain": [
       "count    2.266586e+06\n",
       "mean     6.616383e+01\n",
       "std      1.809117e+01\n",
       "min      0.000000e+00\n",
       "25%      5.600000e+01\n",
       "50%      7.000000e+01\n",
       "75%      7.900000e+01\n",
       "max      1.000000e+02\n",
       "dtype: float64"
      ]
     },
     "execution_count": 53,
     "metadata": {},
     "output_type": "execute_result"
    }
   ],
   "source": [
    "avg_answer.describe()"
   ]
  },
  {
   "cell_type": "code",
   "execution_count": 54,
   "metadata": {},
   "outputs": [],
   "source": [
    "def avg_answer_map(x: int) -> int:\n",
    "    if x < 10:\n",
    "        return 1\n",
    "    elif x < 20:\n",
    "        return 2\n",
    "    elif x < 30:\n",
    "        return 3\n",
    "    elif x < 40:\n",
    "        return 4\n",
    "    elif x < 50:\n",
    "        return 5\n",
    "    elif x < 60:\n",
    "        return 6\n",
    "    elif x < 70:\n",
    "        return 7\n",
    "    elif x < 80:\n",
    "        return 8\n",
    "    elif x < 90:\n",
    "        return 9\n",
    "    else:\n",
    "        return 10"
   ]
  },
  {
   "cell_type": "code",
   "execution_count": 55,
   "metadata": {},
   "outputs": [],
   "source": [
    "edu_tr['avg_answer'] = avg_answer.apply(avg_answer_map)\n",
    "edu_te['avg_answer'] = avg_answer_te.apply(avg_answer_map)"
   ]
  },
  {
   "cell_type": "code",
   "execution_count": 56,
   "metadata": {},
   "outputs": [
    {
     "data": {
      "text/html": [
       "<div>\n",
       "<style scoped>\n",
       "    .dataframe tbody tr th:only-of-type {\n",
       "        vertical-align: middle;\n",
       "    }\n",
       "\n",
       "    .dataframe tbody tr th {\n",
       "        vertical-align: top;\n",
       "    }\n",
       "\n",
       "    .dataframe thead th {\n",
       "        text-align: right;\n",
       "    }\n",
       "</style>\n",
       "<table border=\"1\" class=\"dataframe\">\n",
       "  <thead>\n",
       "    <tr style=\"text-align: right;\">\n",
       "      <th></th>\n",
       "      <th>uid</th>\n",
       "      <th>question_id</th>\n",
       "      <th>test_id</th>\n",
       "      <th>answer</th>\n",
       "      <th>timestamp</th>\n",
       "      <th>tag</th>\n",
       "      <th>test_category</th>\n",
       "      <th>question_lag_time</th>\n",
       "      <th>test_timestamp</th>\n",
       "      <th>test_lag_time</th>\n",
       "      <th>avg_answer</th>\n",
       "    </tr>\n",
       "  </thead>\n",
       "  <tbody>\n",
       "    <tr>\n",
       "      <th>36</th>\n",
       "      <td>0</td>\n",
       "      <td>A060001001</td>\n",
       "      <td>A060001</td>\n",
       "      <td>1</td>\n",
       "      <td>2020-03-24 00:17:11</td>\n",
       "      <td>7224</td>\n",
       "      <td>6</td>\n",
       "      <td>-5.199338</td>\n",
       "      <td>2020-03-24 00:17:11</td>\n",
       "      <td>-5.199338</td>\n",
       "      <td>10</td>\n",
       "    </tr>\n",
       "    <tr>\n",
       "      <th>37</th>\n",
       "      <td>0</td>\n",
       "      <td>A060001002</td>\n",
       "      <td>A060001</td>\n",
       "      <td>1</td>\n",
       "      <td>2020-03-24 00:17:14</td>\n",
       "      <td>7225</td>\n",
       "      <td>6</td>\n",
       "      <td>-0.650837</td>\n",
       "      <td>2020-03-24 00:17:11</td>\n",
       "      <td>-5.199338</td>\n",
       "      <td>10</td>\n",
       "    </tr>\n",
       "    <tr>\n",
       "      <th>38</th>\n",
       "      <td>0</td>\n",
       "      <td>A060001003</td>\n",
       "      <td>A060001</td>\n",
       "      <td>1</td>\n",
       "      <td>2020-03-24 00:17:22</td>\n",
       "      <td>7225</td>\n",
       "      <td>6</td>\n",
       "      <td>-0.403108</td>\n",
       "      <td>2020-03-24 00:17:11</td>\n",
       "      <td>-5.199338</td>\n",
       "      <td>10</td>\n",
       "    </tr>\n",
       "    <tr>\n",
       "      <th>39</th>\n",
       "      <td>0</td>\n",
       "      <td>A060001004</td>\n",
       "      <td>A060001</td>\n",
       "      <td>1</td>\n",
       "      <td>2020-03-24 00:17:29</td>\n",
       "      <td>7225</td>\n",
       "      <td>6</td>\n",
       "      <td>-0.430727</td>\n",
       "      <td>2020-03-24 00:17:11</td>\n",
       "      <td>-5.199338</td>\n",
       "      <td>10</td>\n",
       "    </tr>\n",
       "    <tr>\n",
       "      <th>40</th>\n",
       "      <td>0</td>\n",
       "      <td>A060001005</td>\n",
       "      <td>A060001</td>\n",
       "      <td>1</td>\n",
       "      <td>2020-03-24 00:17:36</td>\n",
       "      <td>7225</td>\n",
       "      <td>6</td>\n",
       "      <td>-0.430727</td>\n",
       "      <td>2020-03-24 00:17:11</td>\n",
       "      <td>-5.199338</td>\n",
       "      <td>10</td>\n",
       "    </tr>\n",
       "    <tr>\n",
       "      <th>...</th>\n",
       "      <td>...</td>\n",
       "      <td>...</td>\n",
       "      <td>...</td>\n",
       "      <td>...</td>\n",
       "      <td>...</td>\n",
       "      <td>...</td>\n",
       "      <td>...</td>\n",
       "      <td>...</td>\n",
       "      <td>...</td>\n",
       "      <td>...</td>\n",
       "      <td>...</td>\n",
       "    </tr>\n",
       "    <tr>\n",
       "      <th>2266581</th>\n",
       "      <td>7441</td>\n",
       "      <td>A030071005</td>\n",
       "      <td>A030071</td>\n",
       "      <td>0</td>\n",
       "      <td>2020-06-05 06:50:21</td>\n",
       "      <td>438</td>\n",
       "      <td>3</td>\n",
       "      <td>0.114185</td>\n",
       "      <td>2020-06-05 06:46:41</td>\n",
       "      <td>5.199338</td>\n",
       "      <td>3</td>\n",
       "    </tr>\n",
       "    <tr>\n",
       "      <th>2266582</th>\n",
       "      <td>7441</td>\n",
       "      <td>A040165001</td>\n",
       "      <td>A040165</td>\n",
       "      <td>1</td>\n",
       "      <td>2020-08-21 01:06:39</td>\n",
       "      <td>8836</td>\n",
       "      <td>4</td>\n",
       "      <td>-5.199338</td>\n",
       "      <td>2020-08-21 01:06:39</td>\n",
       "      <td>5.199338</td>\n",
       "      <td>4</td>\n",
       "    </tr>\n",
       "    <tr>\n",
       "      <th>2266583</th>\n",
       "      <td>7441</td>\n",
       "      <td>A040165002</td>\n",
       "      <td>A040165</td>\n",
       "      <td>1</td>\n",
       "      <td>2020-08-21 01:06:50</td>\n",
       "      <td>8836</td>\n",
       "      <td>4</td>\n",
       "      <td>-0.295415</td>\n",
       "      <td>2020-08-21 01:06:39</td>\n",
       "      <td>5.199338</td>\n",
       "      <td>5</td>\n",
       "    </tr>\n",
       "    <tr>\n",
       "      <th>2266584</th>\n",
       "      <td>7441</td>\n",
       "      <td>A040165003</td>\n",
       "      <td>A040165</td>\n",
       "      <td>1</td>\n",
       "      <td>2020-08-21 01:07:36</td>\n",
       "      <td>8836</td>\n",
       "      <td>4</td>\n",
       "      <td>0.559592</td>\n",
       "      <td>2020-08-21 01:06:39</td>\n",
       "      <td>5.199338</td>\n",
       "      <td>6</td>\n",
       "    </tr>\n",
       "    <tr>\n",
       "      <th>2266585</th>\n",
       "      <td>7441</td>\n",
       "      <td>A040165004</td>\n",
       "      <td>A040165</td>\n",
       "      <td>1</td>\n",
       "      <td>2020-08-21 01:08:49</td>\n",
       "      <td>8836</td>\n",
       "      <td>4</td>\n",
       "      <td>0.880132</td>\n",
       "      <td>2020-08-21 01:06:39</td>\n",
       "      <td>5.199338</td>\n",
       "      <td>6</td>\n",
       "    </tr>\n",
       "  </tbody>\n",
       "</table>\n",
       "<p>2266586 rows × 11 columns</p>\n",
       "</div>"
      ],
      "text/plain": [
       "          uid question_id  test_id  answer           timestamp   tag  \\\n",
       "36          0  A060001001  A060001       1 2020-03-24 00:17:11  7224   \n",
       "37          0  A060001002  A060001       1 2020-03-24 00:17:14  7225   \n",
       "38          0  A060001003  A060001       1 2020-03-24 00:17:22  7225   \n",
       "39          0  A060001004  A060001       1 2020-03-24 00:17:29  7225   \n",
       "40          0  A060001005  A060001       1 2020-03-24 00:17:36  7225   \n",
       "...       ...         ...      ...     ...                 ...   ...   \n",
       "2266581  7441  A030071005  A030071       0 2020-06-05 06:50:21   438   \n",
       "2266582  7441  A040165001  A040165       1 2020-08-21 01:06:39  8836   \n",
       "2266583  7441  A040165002  A040165       1 2020-08-21 01:06:50  8836   \n",
       "2266584  7441  A040165003  A040165       1 2020-08-21 01:07:36  8836   \n",
       "2266585  7441  A040165004  A040165       1 2020-08-21 01:08:49  8836   \n",
       "\n",
       "         test_category  question_lag_time      test_timestamp  test_lag_time  \\\n",
       "36                   6          -5.199338 2020-03-24 00:17:11      -5.199338   \n",
       "37                   6          -0.650837 2020-03-24 00:17:11      -5.199338   \n",
       "38                   6          -0.403108 2020-03-24 00:17:11      -5.199338   \n",
       "39                   6          -0.430727 2020-03-24 00:17:11      -5.199338   \n",
       "40                   6          -0.430727 2020-03-24 00:17:11      -5.199338   \n",
       "...                ...                ...                 ...            ...   \n",
       "2266581              3           0.114185 2020-06-05 06:46:41       5.199338   \n",
       "2266582              4          -5.199338 2020-08-21 01:06:39       5.199338   \n",
       "2266583              4          -0.295415 2020-08-21 01:06:39       5.199338   \n",
       "2266584              4           0.559592 2020-08-21 01:06:39       5.199338   \n",
       "2266585              4           0.880132 2020-08-21 01:06:39       5.199338   \n",
       "\n",
       "         avg_answer  \n",
       "36               10  \n",
       "37               10  \n",
       "38               10  \n",
       "39               10  \n",
       "40               10  \n",
       "...             ...  \n",
       "2266581           3  \n",
       "2266582           4  \n",
       "2266583           5  \n",
       "2266584           6  \n",
       "2266585           6  \n",
       "\n",
       "[2266586 rows x 11 columns]"
      ]
     },
     "execution_count": 56,
     "metadata": {},
     "output_type": "execute_result"
    }
   ],
   "source": [
    "edu_tr"
   ]
  },
  {
   "attachments": {},
   "cell_type": "markdown",
   "metadata": {},
   "source": [
    "#### 🟡 LabelEncoding"
   ]
  },
  {
   "cell_type": "code",
   "execution_count": 57,
   "metadata": {},
   "outputs": [],
   "source": [
    "from sklearn.preprocessing import LabelEncoder\n",
    "\n",
    "le = LabelEncoder()\n",
    "cat_cols_list = ['question_id', 'test_id', 'tag']"
   ]
  },
  {
   "cell_type": "code",
   "execution_count": 58,
   "metadata": {},
   "outputs": [],
   "source": [
    "edu_tr[cat_cols_list] = edu_tr[cat_cols_list].apply(le.fit_transform)\n",
    "edu_te[cat_cols_list] = edu_te[cat_cols_list].apply(le.fit_transform)"
   ]
  },
  {
   "cell_type": "code",
   "execution_count": 59,
   "metadata": {},
   "outputs": [
    {
     "name": "stdout",
     "output_type": "stream",
     "text": [
      "<class 'pandas.core.frame.DataFrame'>\n",
      "Int64Index: 2266586 entries, 36 to 2266585\n",
      "Data columns (total 11 columns):\n",
      " #   Column             Dtype         \n",
      "---  ------             -----         \n",
      " 0   uid                int64         \n",
      " 1   question_id        int64         \n",
      " 2   test_id            int64         \n",
      " 3   answer             int64         \n",
      " 4   timestamp          datetime64[ns]\n",
      " 5   tag                int64         \n",
      " 6   test_category      int8          \n",
      " 7   question_lag_time  float64       \n",
      " 8   test_timestamp     datetime64[ns]\n",
      " 9   test_lag_time      float64       \n",
      " 10  avg_answer         int64         \n",
      "dtypes: datetime64[ns](2), float64(2), int64(6), int8(1)\n",
      "memory usage: 192.4 MB\n"
     ]
    }
   ],
   "source": [
    "edu_tr.info()"
   ]
  },
  {
   "cell_type": "code",
   "execution_count": 60,
   "metadata": {},
   "outputs": [
    {
     "data": {
      "text/html": [
       "<div>\n",
       "<style scoped>\n",
       "    .dataframe tbody tr th:only-of-type {\n",
       "        vertical-align: middle;\n",
       "    }\n",
       "\n",
       "    .dataframe tbody tr th {\n",
       "        vertical-align: top;\n",
       "    }\n",
       "\n",
       "    .dataframe thead th {\n",
       "        text-align: right;\n",
       "    }\n",
       "</style>\n",
       "<table border=\"1\" class=\"dataframe\">\n",
       "  <thead>\n",
       "    <tr style=\"text-align: right;\">\n",
       "      <th></th>\n",
       "      <th>uid</th>\n",
       "      <th>question_id</th>\n",
       "      <th>test_id</th>\n",
       "      <th>answer</th>\n",
       "      <th>timestamp</th>\n",
       "      <th>tag</th>\n",
       "      <th>test_category</th>\n",
       "      <th>question_lag_time</th>\n",
       "      <th>test_timestamp</th>\n",
       "      <th>test_lag_time</th>\n",
       "      <th>avg_answer</th>\n",
       "    </tr>\n",
       "  </thead>\n",
       "  <tbody>\n",
       "    <tr>\n",
       "      <th>36</th>\n",
       "      <td>0</td>\n",
       "      <td>5354</td>\n",
       "      <td>975</td>\n",
       "      <td>1</td>\n",
       "      <td>2020-03-24 00:17:11</td>\n",
       "      <td>556</td>\n",
       "      <td>6</td>\n",
       "      <td>-5.199338</td>\n",
       "      <td>2020-03-24 00:17:11</td>\n",
       "      <td>-5.199338</td>\n",
       "      <td>10</td>\n",
       "    </tr>\n",
       "    <tr>\n",
       "      <th>37</th>\n",
       "      <td>0</td>\n",
       "      <td>5355</td>\n",
       "      <td>975</td>\n",
       "      <td>1</td>\n",
       "      <td>2020-03-24 00:17:14</td>\n",
       "      <td>557</td>\n",
       "      <td>6</td>\n",
       "      <td>-0.650837</td>\n",
       "      <td>2020-03-24 00:17:11</td>\n",
       "      <td>-5.199338</td>\n",
       "      <td>10</td>\n",
       "    </tr>\n",
       "    <tr>\n",
       "      <th>38</th>\n",
       "      <td>0</td>\n",
       "      <td>5356</td>\n",
       "      <td>975</td>\n",
       "      <td>1</td>\n",
       "      <td>2020-03-24 00:17:22</td>\n",
       "      <td>557</td>\n",
       "      <td>6</td>\n",
       "      <td>-0.403108</td>\n",
       "      <td>2020-03-24 00:17:11</td>\n",
       "      <td>-5.199338</td>\n",
       "      <td>10</td>\n",
       "    </tr>\n",
       "    <tr>\n",
       "      <th>39</th>\n",
       "      <td>0</td>\n",
       "      <td>5357</td>\n",
       "      <td>975</td>\n",
       "      <td>1</td>\n",
       "      <td>2020-03-24 00:17:29</td>\n",
       "      <td>557</td>\n",
       "      <td>6</td>\n",
       "      <td>-0.430727</td>\n",
       "      <td>2020-03-24 00:17:11</td>\n",
       "      <td>-5.199338</td>\n",
       "      <td>10</td>\n",
       "    </tr>\n",
       "    <tr>\n",
       "      <th>40</th>\n",
       "      <td>0</td>\n",
       "      <td>5358</td>\n",
       "      <td>975</td>\n",
       "      <td>1</td>\n",
       "      <td>2020-03-24 00:17:36</td>\n",
       "      <td>557</td>\n",
       "      <td>6</td>\n",
       "      <td>-0.430727</td>\n",
       "      <td>2020-03-24 00:17:11</td>\n",
       "      <td>-5.199338</td>\n",
       "      <td>10</td>\n",
       "    </tr>\n",
       "    <tr>\n",
       "      <th>...</th>\n",
       "      <td>...</td>\n",
       "      <td>...</td>\n",
       "      <td>...</td>\n",
       "      <td>...</td>\n",
       "      <td>...</td>\n",
       "      <td>...</td>\n",
       "      <td>...</td>\n",
       "      <td>...</td>\n",
       "      <td>...</td>\n",
       "      <td>...</td>\n",
       "      <td>...</td>\n",
       "    </tr>\n",
       "    <tr>\n",
       "      <th>2266581</th>\n",
       "      <td>7441</td>\n",
       "      <td>2373</td>\n",
       "      <td>456</td>\n",
       "      <td>0</td>\n",
       "      <td>2020-06-05 06:50:21</td>\n",
       "      <td>58</td>\n",
       "      <td>3</td>\n",
       "      <td>0.114185</td>\n",
       "      <td>2020-06-05 06:46:41</td>\n",
       "      <td>5.199338</td>\n",
       "      <td>3</td>\n",
       "    </tr>\n",
       "    <tr>\n",
       "      <th>2266582</th>\n",
       "      <td>7441</td>\n",
       "      <td>3909</td>\n",
       "      <td>748</td>\n",
       "      <td>1</td>\n",
       "      <td>2020-08-21 01:06:39</td>\n",
       "      <td>720</td>\n",
       "      <td>4</td>\n",
       "      <td>-5.199338</td>\n",
       "      <td>2020-08-21 01:06:39</td>\n",
       "      <td>5.199338</td>\n",
       "      <td>4</td>\n",
       "    </tr>\n",
       "    <tr>\n",
       "      <th>2266583</th>\n",
       "      <td>7441</td>\n",
       "      <td>3910</td>\n",
       "      <td>748</td>\n",
       "      <td>1</td>\n",
       "      <td>2020-08-21 01:06:50</td>\n",
       "      <td>720</td>\n",
       "      <td>4</td>\n",
       "      <td>-0.295415</td>\n",
       "      <td>2020-08-21 01:06:39</td>\n",
       "      <td>5.199338</td>\n",
       "      <td>5</td>\n",
       "    </tr>\n",
       "    <tr>\n",
       "      <th>2266584</th>\n",
       "      <td>7441</td>\n",
       "      <td>3911</td>\n",
       "      <td>748</td>\n",
       "      <td>1</td>\n",
       "      <td>2020-08-21 01:07:36</td>\n",
       "      <td>720</td>\n",
       "      <td>4</td>\n",
       "      <td>0.559592</td>\n",
       "      <td>2020-08-21 01:06:39</td>\n",
       "      <td>5.199338</td>\n",
       "      <td>6</td>\n",
       "    </tr>\n",
       "    <tr>\n",
       "      <th>2266585</th>\n",
       "      <td>7441</td>\n",
       "      <td>3912</td>\n",
       "      <td>748</td>\n",
       "      <td>1</td>\n",
       "      <td>2020-08-21 01:08:49</td>\n",
       "      <td>720</td>\n",
       "      <td>4</td>\n",
       "      <td>0.880132</td>\n",
       "      <td>2020-08-21 01:06:39</td>\n",
       "      <td>5.199338</td>\n",
       "      <td>6</td>\n",
       "    </tr>\n",
       "  </tbody>\n",
       "</table>\n",
       "<p>2266586 rows × 11 columns</p>\n",
       "</div>"
      ],
      "text/plain": [
       "          uid  question_id  test_id  answer           timestamp  tag  \\\n",
       "36          0         5354      975       1 2020-03-24 00:17:11  556   \n",
       "37          0         5355      975       1 2020-03-24 00:17:14  557   \n",
       "38          0         5356      975       1 2020-03-24 00:17:22  557   \n",
       "39          0         5357      975       1 2020-03-24 00:17:29  557   \n",
       "40          0         5358      975       1 2020-03-24 00:17:36  557   \n",
       "...       ...          ...      ...     ...                 ...  ...   \n",
       "2266581  7441         2373      456       0 2020-06-05 06:50:21   58   \n",
       "2266582  7441         3909      748       1 2020-08-21 01:06:39  720   \n",
       "2266583  7441         3910      748       1 2020-08-21 01:06:50  720   \n",
       "2266584  7441         3911      748       1 2020-08-21 01:07:36  720   \n",
       "2266585  7441         3912      748       1 2020-08-21 01:08:49  720   \n",
       "\n",
       "         test_category  question_lag_time      test_timestamp  test_lag_time  \\\n",
       "36                   6          -5.199338 2020-03-24 00:17:11      -5.199338   \n",
       "37                   6          -0.650837 2020-03-24 00:17:11      -5.199338   \n",
       "38                   6          -0.403108 2020-03-24 00:17:11      -5.199338   \n",
       "39                   6          -0.430727 2020-03-24 00:17:11      -5.199338   \n",
       "40                   6          -0.430727 2020-03-24 00:17:11      -5.199338   \n",
       "...                ...                ...                 ...            ...   \n",
       "2266581              3           0.114185 2020-06-05 06:46:41       5.199338   \n",
       "2266582              4          -5.199338 2020-08-21 01:06:39       5.199338   \n",
       "2266583              4          -0.295415 2020-08-21 01:06:39       5.199338   \n",
       "2266584              4           0.559592 2020-08-21 01:06:39       5.199338   \n",
       "2266585              4           0.880132 2020-08-21 01:06:39       5.199338   \n",
       "\n",
       "         avg_answer  \n",
       "36               10  \n",
       "37               10  \n",
       "38               10  \n",
       "39               10  \n",
       "40               10  \n",
       "...             ...  \n",
       "2266581           3  \n",
       "2266582           4  \n",
       "2266583           5  \n",
       "2266584           6  \n",
       "2266585           6  \n",
       "\n",
       "[2266586 rows x 11 columns]"
      ]
     },
     "execution_count": 60,
     "metadata": {},
     "output_type": "execute_result"
    }
   ],
   "source": [
    "edu_tr"
   ]
  },
  {
   "attachments": {},
   "cell_type": "markdown",
   "metadata": {},
   "source": [
    "#### 🟡 `timestamp` int형으로 변환하기"
   ]
  },
  {
   "cell_type": "code",
   "execution_count": 61,
   "metadata": {},
   "outputs": [],
   "source": [
    "edu_tr.timestamp = edu_tr.timestamp.apply(lambda x:x.value)\n",
    "edu_te.timestamp = edu_te.timestamp.apply(lambda x:x.value)"
   ]
  },
  {
   "cell_type": "code",
   "execution_count": 62,
   "metadata": {},
   "outputs": [
    {
     "name": "stdout",
     "output_type": "stream",
     "text": [
      "<class 'pandas.core.frame.DataFrame'>\n",
      "Int64Index: 2266586 entries, 36 to 2266585\n",
      "Data columns (total 11 columns):\n",
      " #   Column             Dtype         \n",
      "---  ------             -----         \n",
      " 0   uid                int64         \n",
      " 1   question_id        int64         \n",
      " 2   test_id            int64         \n",
      " 3   answer             int64         \n",
      " 4   timestamp          int64         \n",
      " 5   tag                int64         \n",
      " 6   test_category      int8          \n",
      " 7   question_lag_time  float64       \n",
      " 8   test_timestamp     datetime64[ns]\n",
      " 9   test_lag_time      float64       \n",
      " 10  avg_answer         int64         \n",
      "dtypes: datetime64[ns](1), float64(2), int64(7), int8(1)\n",
      "memory usage: 192.4 MB\n"
     ]
    }
   ],
   "source": [
    "edu_tr.info()"
   ]
  },
  {
   "attachments": {},
   "cell_type": "markdown",
   "metadata": {},
   "source": [
    "## Save file"
   ]
  },
  {
   "cell_type": "code",
   "execution_count": 64,
   "metadata": {},
   "outputs": [],
   "source": [
    "version = input()\n",
    "edu_tr.to_csv(f'../data/train_data_ws_{version}.csv', index=False)"
   ]
  },
  {
   "cell_type": "code",
   "execution_count": 65,
   "metadata": {},
   "outputs": [],
   "source": [
    "version = input()\n",
    "edu_te.to_csv(f'../data/test_data_ws_{version}.csv', index=False)"
   ]
  },
  {
   "cell_type": "code",
   "execution_count": null,
   "metadata": {},
   "outputs": [],
   "source": []
  }
 ],
 "metadata": {
  "kernelspec": {
   "display_name": "dkt",
   "language": "python",
   "name": "python3"
  },
  "language_info": {
   "codemirror_mode": {
    "name": "ipython",
    "version": 3
   },
   "file_extension": ".py",
   "mimetype": "text/x-python",
   "name": "python",
   "nbconvert_exporter": "python",
   "pygments_lexer": "ipython3",
   "version": "3.10.11"
  },
  "orig_nbformat": 4
 },
 "nbformat": 4,
 "nbformat_minor": 2
}
