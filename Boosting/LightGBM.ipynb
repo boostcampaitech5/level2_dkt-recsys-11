{
  "cells": [
    {
      "attachments": {},
      "cell_type": "markdown",
      "metadata": {
        "id": "yt7sDAqHhfQp"
      },
      "source": [
        "### LightGBM\n",
        "\n",
        "강주형_T5008"
      ]
    },
    {
      "cell_type": "code",
      "execution_count": 41,
      "metadata": {
        "ExecuteTime": {
          "end_time": "2021-05-24T09:49:29.375544Z",
          "start_time": "2021-05-24T09:49:28.999092Z"
        },
        "id": "Uq_TJqbdhfQu"
      },
      "outputs": [],
      "source": [
        "import pandas as pd\n",
        "import numpy as np\n",
        "import os\n",
        "import random\n",
        "import matplotlib.pyplot as plt\n",
        "import seaborn as sns\n",
        "from sklearn.preprocessing import QuantileTransformer"
      ]
    },
    {
      "attachments": {},
      "cell_type": "markdown",
      "metadata": {
        "id": "QZlm5HSmhfQv"
      },
      "source": [
        "## 1. Data Load"
      ]
    },
    {
      "cell_type": "code",
      "execution_count": 42,
      "metadata": {
        "ExecuteTime": {
          "end_time": "2021-05-24T09:49:29.678737Z",
          "start_time": "2021-05-24T09:49:29.376581Z"
        },
        "id": "s6qgJ8MLhfQw"
      },
      "outputs": [],
      "source": [
        "data_dir = '../data' \n",
        "csv_file_path = os.path.join(data_dir, 'train_data.csv')\n",
        "test_csv_file_path = os.path.join(data_dir, 'test_data.csv')\n",
        "\n",
        "dtype = {\n",
        "    'userID': 'int16',\n",
        "    'answerCode': 'int8',\n",
        "    'KnowledgeTag': 'int16'\n",
        "}   \n",
        "\n",
        "train_df = pd.read_csv(csv_file_path, dtype=dtype, parse_dates=['Timestamp']) \n",
        "test_df = pd.read_csv(test_csv_file_path, dtype=dtype, parse_dates=['Timestamp'])"
      ]
    },
    {
      "cell_type": "code",
      "execution_count": 43,
      "metadata": {},
      "outputs": [],
      "source": [
        "### 학습에 Test 데이터 활용\n",
        "df = pd.concat([train_df, test_df])\n",
        "df = df[df['answerCode'] != -1]"
      ]
    },
    {
      "attachments": {},
      "cell_type": "markdown",
      "metadata": {
        "id": "p_oCGAgEhfQw"
      },
      "source": [
        "## 2. Feature Engineering"
      ]
    },
    {
      "cell_type": "code",
      "execution_count": 46,
      "metadata": {
        "ExecuteTime": {
          "end_time": "2021-05-24T09:49:29.682739Z",
          "start_time": "2021-05-24T09:49:28.979Z"
        },
        "id": "URNLoukChfQx"
      },
      "outputs": [],
      "source": [
        "def feature_engineering(df):\n",
        "    \n",
        "    #유저별 시퀀스를 고려하기 위해 아래와 같이 정렬\n",
        "    df.sort_values(by=['userID','Timestamp'], inplace=True)\n",
        "    \n",
        "    #유저들의 문제 풀이수, 정답 수, 정답률을 시간순으로 누적해서 계산\n",
        "    df['user_correct_answer'] = df.groupby('userID')['answerCode'].transform(lambda x: x.cumsum().shift(1))\n",
        "    df['user_total_answer'] = df.groupby('userID')['answerCode'].cumcount()\n",
        "    df['user_acc'] = df['user_correct_answer']/df['user_total_answer']\n",
        "\n",
        "    ### 소요시간\n",
        "    diff = df.loc[:, ['userID', 'Timestamp']].groupby('userID').diff().fillna(pd.Timedelta(seconds=0))\n",
        "    diff = diff.fillna(pd.Timedelta(seconds=0))\n",
        "    diff = diff['Timestamp'].apply(lambda x: x.total_seconds())\n",
        "    df['elapsed'] = diff\n",
        "    elapsed_median = df[df['elapsed'] < 300]['elapsed'].median()\n",
        "    def elapsed_preprocessing(x):\n",
        "        if x >= 300 or x == 0:\n",
        "            return elapsed_median\n",
        "        return x\n",
        "    df['elapsed'] = df['elapsed'].apply(elapsed_preprocessing)\n",
        "\n",
        "\n",
        "    ### 연속적으로 푼 태그 정보 추가\n",
        "    df['continuous_tag'] = (df.groupby(['userID', 'KnowledgeTag']).cumcount() + 1).astype(int)\n",
        "    \n",
        "    \n",
        "    ### 문항이 속한 태그 중 사용자가 이전에 푼 문항에서 맞춘 비율\n",
        "    df['user_tag_cum_acc'] = df.groupby(['userID', 'KnowledgeTag'])['answerCode'].transform(lambda x: x.expanding().mean().shift(1))\n",
        "    \n",
        "    ### 주말 여부\n",
        "    time = df['Timestamp'].dt.day_name()\n",
        "    def isWeekend_preprocessing(x):\n",
        "        if x =='Saturday' or x =='Sunday':\n",
        "            x = 1\n",
        "        else:\n",
        "            x = 0\n",
        "        return x\n",
        "    df['isWeekend'] = time.apply(isWeekend_preprocessing)\n",
        "    \n",
        "    \n",
        "    df['test_category'] = df['testId'].str[2].astype('int8')\n",
        "    df[\"test_category_cum_acc\"] = df.groupby([\"userID\", \"test_category\"])[\"answerCode\"].transform(lambda x: x.cumsum().shift(1)).fillna(0)\n",
        "    df[\"test_category_cum_count\"] = df.groupby([\"userID\", \"test_category\"]).cumcount()\n",
        "    df[\"test_category_cum_acc_rate\"] = ( df[\"test_category_cum_acc\"] / df[\"test_category_cum_count\"] ).fillna(0)\n",
        "\n",
        "    df[\"test_category_elapsed\"] = df.groupby([\"userID\", \"test_category\"])[\"elapsed\"].transform(lambda x: x.cumsum()).fillna(0)\n",
        "    \n",
        "    ### \n",
        "    df['lag_time'] = df.groupby('userID')['Timestamp'].diff().dt.seconds.fillna(0, downcast='int')\n",
        "\n",
        "    scaler_lag_time = QuantileTransformer(n_quantiles=100, random_state=42, output_distribution='normal')\n",
        "    raw_vec_lag_time = df['lag_time'].values.reshape(-1, 1)\n",
        "\n",
        "    scaler_lag_time.fit(raw_vec_lag_time)\n",
        "\n",
        "    df['lag_time'] = scaler_lag_time.transform(raw_vec_lag_time).reshape(1, -1)[0]\n",
        "\n",
        "\n",
        "    ###\n",
        "    test_timestamp = df.groupby(['userID', 'testId']).agg(test_timestamp=('Timestamp', min))\n",
        "    test_timestamp.reset_index(inplace=True)\n",
        "    df = pd.merge(left=df, right=test_timestamp, how='left', on=['userID', 'testId'])\n",
        "\n",
        "\n",
        "    ###\n",
        "    test_lag_time = df.groupby('userID')['test_timestamp'].diff().dt.total_seconds() // 3600\n",
        "    test_lag_time.replace(0, np.NaN, inplace=True) # 0을 결측값으로 변경\n",
        "    test_lag_time.fillna(method='pad', inplace=True) # 결측값을 앞 방향으로 채우기\n",
        "    test_lag_time.fillna(0, inplace=True)\n",
        "    test_lag_time.clip(lower=0, upper=300, inplace=True)\n",
        "    df['test_lag_time'] = test_lag_time\n",
        "    scaler_test_lag_time = QuantileTransformer(n_quantiles=100, random_state=42, output_distribution='normal')\n",
        "    raw_vec_test_lag_time = df['test_lag_time'].values.reshape(-1, 1)\n",
        "    scaler_test_lag_time.fit(raw_vec_test_lag_time)\n",
        "    df['test_lag_time'] = scaler_test_lag_time.transform(raw_vec_test_lag_time).reshape(1, -1)[0]\n",
        "\n",
        "    \n",
        "    return df"
      ]
    },
    {
      "cell_type": "code",
      "execution_count": 47,
      "metadata": {},
      "outputs": [],
      "source": [
        "def feature_engineering_train(df):\n",
        "    global correct_t, correct_k, question_accuracy\n",
        "    \n",
        "    # testId와 KnowledgeTag의 전체 정답률은 한번에 계산\n",
        "    # 아래 데이터는 제출용 데이터셋에 대해서도 재사용\n",
        "    correct_t = df.groupby(['testId'])['answerCode'].agg(['mean', 'sum'])\n",
        "    correct_t.columns = [\"test_mean\", 'test_sum']\n",
        "    correct_k = df.groupby(['KnowledgeTag'])['answerCode'].agg(['mean', 'sum'])\n",
        "    correct_k.columns = [\"tag_mean\", 'tag_sum']\n",
        "\n",
        "    df = pd.merge(df, correct_t, on=['testId'], how=\"left\")\n",
        "    df = pd.merge(df, correct_k, on=['KnowledgeTag'], how=\"left\")\n",
        "    \n",
        "    ### 사용자가 이전에 푼 문항과 동일한 지식 태그를 포함한 문항일 경우 정답률이 높아지는 경향이 있는 지 여부\n",
        "    # 문항별 정답률 계산\n",
        "    question_accuracy = df.groupby('assessmentItemID')['answerCode'].mean()\n",
        "    \n",
        "    # 이전에 푼 문항과 동일한 태그를 가진 문항일 경우 1, 그렇지 않을 경우 0으로 구성된 새로운 변수 생성\n",
        "    df['similar_tag_answered'] = df.groupby('userID')['KnowledgeTag'].apply(lambda x: x.eq(x.shift()).astype(int)).reset_index(drop=True)\n",
        "    # 이전에 푼 문항과 동일한 태그를 가진 문항일 경우 그 문항의 정답률 계산\n",
        "    df['similar_tag_accuracy'] = df['assessmentItemID'].map(question_accuracy) * df['similar_tag_answered']\n",
        "    # 만약 이전에 푼 문항과 동일한 태그를 가진 문항이 없을 경우에는 정답률이 0이 되도록 함\n",
        "    df['similar_tag_accuracy'].fillna(0, inplace=True)\n",
        "    df = df.drop(['similar_tag_answered'], axis=1)\n",
        "    \n",
        "    \n",
        "    \n",
        "    \n",
        "    return df"
      ]
    },
    {
      "cell_type": "code",
      "execution_count": 48,
      "metadata": {},
      "outputs": [],
      "source": [
        "def feature_engineering_test(df):\n",
        "    global correct_t, correct_k, question_accuracy\n",
        "    \n",
        "    df = pd.merge(df, correct_t, on=['testId'], how=\"left\")\n",
        "    df = pd.merge(df, correct_k, on=['KnowledgeTag'], how=\"left\")\n",
        "    \n",
        "    # 이전에 푼 문항과 동일한 태그를 가진 문항일 경우 1, 그렇지 않을 경우 0으로 구성된 새로운 변수 생성\n",
        "    df['similar_tag_answered'] = df.groupby('userID')['KnowledgeTag'].apply(lambda x: x.eq(x.shift()).astype(int)).reset_index(drop=True)\n",
        "    # 이전에 푼 문항과 동일한 태그를 가진 문항일 경우 그 문항의 정답률 계산\n",
        "    df['similar_tag_accuracy'] = df['assessmentItemID'].map(question_accuracy) * df['similar_tag_answered']\n",
        "    # 만약 이전에 푼 문항과 동일한 태그를 가진 문항이 없을 경우에는 정답률이 0이 되도록 함\n",
        "    df['similar_tag_accuracy'].fillna(0, inplace=True)\n",
        "    df = df.drop(['similar_tag_answered'], axis=1)\n",
        "    \n",
        "    return df"
      ]
    },
    {
      "cell_type": "code",
      "execution_count": 49,
      "metadata": {
        "ExecuteTime": {
          "end_time": "2021-05-24T09:49:29.683739Z",
          "start_time": "2021-05-24T09:49:28.981Z"
        },
        "id": "2vsUwksMhfQy",
        "scrolled": false
      },
      "outputs": [],
      "source": [
        "df = feature_engineering(df)\n",
        "df = feature_engineering_train(df)"
      ]
    },
    {
      "cell_type": "code",
      "execution_count": 50,
      "metadata": {},
      "outputs": [],
      "source": [
        "# tag_difficult, tag_answer_rate, id_difficult, id_answer_rate Feature 활용\n",
        "\n",
        "df_id = pd.read_csv('id.csv')\n",
        "df_tag = pd.read_csv('tag.csv')"
      ]
    },
    {
      "cell_type": "code",
      "execution_count": 51,
      "metadata": {},
      "outputs": [],
      "source": [
        "df = pd.merge(pd.merge(df, df_id, on='assessmentItemID', how='left'), df_tag, on='KnowledgeTag', how='left')"
      ]
    },
    {
      "attachments": {},
      "cell_type": "markdown",
      "metadata": {
        "id": "5VZzei3DhfQy"
      },
      "source": [
        "## 3. Data Split"
      ]
    },
    {
      "cell_type": "code",
      "execution_count": 53,
      "metadata": {
        "ExecuteTime": {
          "end_time": "2021-05-24T09:49:29.684739Z",
          "start_time": "2021-05-24T09:49:28.982Z"
        },
        "id": "YOPWK7ckhfQz"
      },
      "outputs": [],
      "source": [
        "# Data Split by UserID\n",
        "random.seed(4948)\n",
        "def custom_train_test_split(df, ratio=0.7, split=True):\n",
        "    \n",
        "    users = list(zip(df['userID'].value_counts().index, df['userID'].value_counts()))\n",
        "    random.shuffle(users)\n",
        "    \n",
        "    max_train_data_len = ratio*len(df)\n",
        "    sum_of_train_data = 0\n",
        "    user_ids =[]\n",
        "\n",
        "    for user_id, count in users:\n",
        "        sum_of_train_data += count\n",
        "        if max_train_data_len < sum_of_train_data:\n",
        "            break\n",
        "        user_ids.append(user_id)\n",
        "\n",
        "\n",
        "    train = df[df['userID'].isin(user_ids)]\n",
        "    test = df[df['userID'].isin(user_ids) == False]\n",
        "\n",
        "    #test데이터셋은 각 유저의 마지막 interaction만 추출\n",
        "    test = test[test['userID'] != test['userID'].shift(-1)]\n",
        "    return train, test"
      ]
    },
    {
      "cell_type": "code",
      "execution_count": 61,
      "metadata": {
        "ExecuteTime": {
          "end_time": "2021-05-24T09:49:29.686739Z",
          "start_time": "2021-05-24T09:49:28.984Z"
        },
        "id": "i3HzdoybhfQ0"
      },
      "outputs": [],
      "source": [
        "# Train, Test Split\n",
        "train, test = custom_train_test_split(df)\n",
        "\n",
        "# Features Setting\n",
        "FEATS = ['KnowledgeTag', 'user_correct_answer', 'user_total_answer', \n",
        "         'user_acc', 'test_mean', 'test_sum', 'tag_mean','tag_sum', 'continuous_tag', 'user_tag_cum_acc', 'similar_tag_accuracy', 'id_answer_rate', 'id_difficult', 'tag_difficult', 'test_category_cum_acc_rate', 'test_category_elapsed', 'elapsed']\n",
        "\n",
        "# Feature, Class Split\n",
        "y_train = train['answerCode']\n",
        "train = train.drop(['answerCode'], axis=1)\n",
        "\n",
        "y_test = test['answerCode']\n",
        "test = test.drop(['answerCode'], axis=1)"
      ]
    },
    {
      "attachments": {},
      "cell_type": "markdown",
      "metadata": {
        "id": "KiHss_BBhfQ2"
      },
      "source": [
        "## 4. Train and Inference"
      ]
    },
    {
      "cell_type": "code",
      "execution_count": null,
      "metadata": {},
      "outputs": [],
      "source": [
        "# Base Score Check\n",
        "\n",
        "from lightgbm import LGBMClassifier\n",
        "from sklearn.metrics import accuracy_score, roc_auc_score\n",
        "\n",
        "lgb_train = LGBMClassifier().fit(train[FEATS], y_train)\n",
        "lgb_test = LGBMClassifier().fit(test[FEATS], y_test)\n",
        "\n",
        "model = LGBMClassifier(\n",
        "objective='binary',\n",
        "num_boost_round=500,\n",
        "early_stopping_rounds=100,\n",
        "boost_from_average=False,\n",
        ")\n",
        "\n",
        "model.fit(\n",
        "train[FEATS], y_train,\n",
        "eval_set=[(train[FEATS], y_train), (test[FEATS], y_test)],\n",
        "eval_metric='ruc_auc_score',\n",
        "verbose=100\n",
        ")\n",
        "\n",
        "preds = model.predict_proba(test[FEATS])[:, 1]\n",
        "acc = accuracy_score(y_test, np.where(preds >= 0.5, 1, 0))\n",
        "auc = roc_auc_score(y_test, preds)\n",
        "\n",
        "print(f'VALID AUC : {auc} ACC : {acc}\\n')"
      ]
    },
    {
      "cell_type": "code",
      "execution_count": 64,
      "metadata": {},
      "outputs": [
        {
          "data": {
            "image/png": "[encoded data removed]",
            "text/plain": [
              "<Figure size 1000x600 with 1 Axes>"
            ]
          },
          "metadata": {},
          "output_type": "display_data"
        }
      ],
      "source": [
        "# Feature Importances\n",
        "\n",
        "feature = model.feature_importances_\n",
        "plt.figure(figsize=(10, 6))\n",
        "plt.barh(FEATS, feature)\n",
        "plt.xticks(rotation=90)\n",
        "plt.xlabel('Feature Importance')\n",
        "plt.ylabel('Columns')\n",
        "plt.title('Feature Importance')\n",
        "plt.show()"
      ]
    },
    {
      "cell_type": "code",
      "execution_count": null,
      "metadata": {},
      "outputs": [],
      "source": [
        "from lightgbm import LGBMClassifier\n",
        "from sklearn.metrics import accuracy_score, roc_auc_score\n",
        "import lightgbm as lgb\n",
        "\n",
        "# Optuna Libraries\n",
        "import optuna\n",
        "from optuna import Trial\n",
        "from optuna.samplers import TPESampler\n",
        "\n",
        "# train_test_split\n",
        "from sklearn.model_selection import train_test_split\n",
        "\n",
        "# Random sampler\n",
        "sampler = TPESampler(seed=10)\n",
        "\n",
        "# Define function\n",
        "def objective(trial):\n",
        "\n",
        "    params = {\n",
        "        'boost_from_average':'False',\n",
        "        'objective': 'binary',\n",
        "        'n_estimators': trial.suggest_int('n_estimators', 50, 200),\n",
        "        'num_leaves': trial.suggest_int('num_leaves', 2, 512),\n",
        "        'min_child_samples': trial.suggest_int('min_child_samples', 5, 100),\n",
        "        'max_depth': trial.suggest_int('max_depth', -1, 100),\n",
        "        'learning_rate': trial.suggest_float('learning_rate', 0.01, 1.0),\n",
        "        'subsample': trial.suggest_float('subsample', 0.1, 1.0),\n",
        "        'colsample_bytree': trial.suggest_float('colsample_bytree', 0.1, 1.0),\n",
        "        'reg_alpha': trial.suggest_float('reg_alpha', 0.0, 1.0),\n",
        "        'reg_lambda': trial.suggest_float('reg_lambda', 0.0, 1.0)\n",
        "    }\n",
        "\n",
        "    # Generate model\n",
        "    model = LGBMClassifier(**params)\n",
        "    model.fit(\n",
        "        train[FEATS], y_train,\n",
        "        eval_set=[(test[FEATS], y_test)],\n",
        "        eval_metric='auc',\n",
        "        verbose=100,\n",
        "        callbacks = [lgb.early_stopping(stopping_rounds = 20)]\n",
        "        )\n",
        "                           \n",
        "\t# 평가지표 원하는 평가 지표가 있을 시 바꾸어 준다.\n",
        "    AUC = roc_auc_score(y_test, model.predict_proba(test[FEATS])[:, 1])\n",
        "    return AUC\n",
        "\n",
        "optuna_model = optuna.create_study(direction='maximize', study_name='LGBMClassifier', sampler=sampler)\n",
        "optuna_model.optimize(objective, n_trials=100)"
      ]
    },
    {
      "cell_type": "code",
      "execution_count": null,
      "metadata": {},
      "outputs": [],
      "source": [
        "model_trial = optuna_model.best_trial\n",
        "model_trial_params = model_trial.params\n",
        "print('Best Trial: score {},\\nparams {}'.format(model_trial.value, model_trial_params))"
      ]
    },
    {
      "cell_type": "code",
      "execution_count": null,
      "metadata": {},
      "outputs": [],
      "source": [
        "# Model fit\n",
        "\n",
        "model = LGBMClassifier(**model_trial_params, verbose=0)\n",
        "model.fit(df[FEATS], df['answerCode'])"
      ]
    },
    {
      "attachments": {},
      "cell_type": "markdown",
      "metadata": {
        "id": "8Bsff1ZVhfQ3"
      },
      "source": [
        "## 5. Test Inference"
      ]
    },
    {
      "cell_type": "code",
      "execution_count": 69,
      "metadata": {
        "ExecuteTime": {
          "end_time": "2021-05-24T09:49:29.691738Z",
          "start_time": "2021-05-24T09:49:28.992Z"
        },
        "id": "N6YEFm8IhfQ3"
      },
      "outputs": [],
      "source": [
        "# Load Test\n",
        "test_csv_file_path = os.path.join(data_dir, 'test_data.csv')\n",
        "test_df = pd.read_csv(test_csv_file_path, dtype=dtype, parse_dates=['Timestamp'])\n",
        "\n",
        "# Feature engineering\n",
        "test_df = feature_engineering(test_df)\n",
        "test_df = feature_engineering_test(test_df)\n",
        "test_df = pd.merge(pd.merge(test_df, df_id, on='assessmentItemID', how='left'), df_tag, on='KnowledgeTag', how='left')\n",
        "\n",
        "# Leave Last Interaction Only\n",
        "test_df = test_df[test_df['userID'] != test_df['userID'].shift(-1)]\n",
        "\n",
        "# Drop answerCode\n",
        "test_df = test_df.drop(['answerCode'], axis=1)\n",
        "\n",
        "# Make prediction\n",
        "total_preds = model.predict_proba(test_df[FEATS])[:, 1]\n",
        "\n"
      ]
    },
    {
      "cell_type": "code",
      "execution_count": null,
      "metadata": {
        "ExecuteTime": {
          "end_time": "2021-05-24T09:49:29.694736Z",
          "start_time": "2021-05-24T09:49:28.995Z"
        },
        "id": "f8PvohzwhfQ4"
      },
      "outputs": [],
      "source": [
        "# SAVE OUTPUT\n",
        "output_dir = 'output/'\n",
        "write_path = os.path.join(output_dir, \"submission.csv\")\n",
        "if not os.path.exists(output_dir):\n",
        "    os.makedirs(output_dir)\n",
        "with open(write_path, 'w', encoding='utf8') as w:\n",
        "    print(\"writing prediction : {}\".format(write_path))\n",
        "    w.write(\"id,prediction\\n\")\n",
        "    for id, p in enumerate(total_preds):\n",
        "        w.write('{},{}\\n'.format(id,p))"
      ]
    }
  ],
  "metadata": {
    "colab": {
      "provenance": []
    },
    "kernelspec": {
      "display_name": "Python 3",
      "language": "python",
      "name": "python3"
    },
    "language_info": {
      "codemirror_mode": {
        "name": "ipython",
        "version": 3
      },
      "file_extension": ".py",
      "mimetype": "text/x-python",
      "name": "python",
      "nbconvert_exporter": "python",
      "pygments_lexer": "ipython3",
      "version": "3.10.11"
    },
    "toc": {
      "base_numbering": 1,
      "nav_menu": {},
      "number_sections": false,
      "sideBar": true,
      "skip_h1_title": false,
      "title_cell": "Table of Contents",
      "title_sidebar": "Contents",
      "toc_cell": false,
      "toc_position": {},
      "toc_section_display": true,
      "toc_window_display": true
    }
  },
  "nbformat": 4,
  "nbformat_minor": 0
}
